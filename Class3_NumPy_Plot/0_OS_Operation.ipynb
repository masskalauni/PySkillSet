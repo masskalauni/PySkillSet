{
 "cells": [
  {
   "cell_type": "code",
   "execution_count": 1,
   "metadata": {},
   "outputs": [],
   "source": [
    "#Example-1: Create directory if not available\n",
    "import os\n",
    "\n",
    "def create_folder(fd):\n",
    "    if not os.path.exists(fd):\n",
    "        os.makedirs(fd)\n",
    "\n",
    "data_path = \"G:/Bedkot_AI_Education/Exercise/Output_result/\"\n",
    "create_folder(data_path)\n"
   ]
  },
  {
   "cell_type": "code",
   "execution_count": 5,
   "metadata": {},
   "outputs": [
    {
     "name": "stdout",
     "output_type": "stream",
     "text": [
      "G:/Bedkot_AI_Education/Exercise/Output G:/Bedkot_AI_Education/Exercise\n",
      "The class label: Output\n",
      "add_numbers\n",
      ".txt\n"
     ]
    }
   ],
   "source": [
    "#Example-2: Split directory path\n",
    "import os\n",
    "\n",
    "def split_path(path):\n",
    "    '''\n",
    "    Split path to basename, filename and extension. For example, 'a/b/c.wav' => ('a/b', 'c', 'wav')\n",
    "    :param path: filepath = 'a/b/c.wav'\n",
    "    :return: basename, filename, and extension = ('a/b', 'c', 'wav')\n",
    "    '''\n",
    "    basepath, filename = os.path.split(path)\n",
    "    basepath1, dir_name = os.path.split(basepath)\n",
    "    filename, extension = os.path.splitext(filename)\n",
    "    return basepath1, dir_name, basepath, filename, extension\n",
    "\n",
    "data_path = \"G:/Bedkot_AI_Education/Exercise/Output/add_numbers.txt\"\n",
    "basepath1, dir_name, base_path, file, ext = split_path(data_path)\n",
    "print(base_path, basepath1)\n",
    "print(\"The class label:\", dir_name)\n",
    "print(file)\n",
    "print(ext)"
   ]
  },
  {
   "cell_type": "code",
   "execution_count": 16,
   "metadata": {},
   "outputs": [],
   "source": [
    "#Example-3: Remove files in a directory\n",
    "import os\n",
    "import glob\n",
    "def remove_all_files(path):\n",
    "    files = glob.glob('{}/*'.format(path))\n",
    "    for f in files:\n",
    "        os.remove(f)\n",
    "\n",
    "data_path = \"G:/Bedkot_AI_Education/Exercise/Output_result/\"\n",
    "remove_all_files(data_path)"
   ]
  },
  {
   "cell_type": "code",
   "execution_count": 21,
   "metadata": {},
   "outputs": [
    {
     "name": "stdout",
     "output_type": "stream",
     "text": [
      "This is path: G:\\Bedkot_AI_Education\\Exercise\\Images_data\\cat.9.jpg\n",
      "This is end_file name: cat.9.jpg\n",
      "cat.9\n"
     ]
    }
   ],
   "source": [
    "#Example-4: Get file name from a path\n",
    "\n",
    "def get_filename(path):\n",
    "    path = os.path.realpath(path)\n",
    "    print(\"This is path:\", path)\n",
    "    na_ext = os.path.split(path)[-1]    #or na_ext = os.path.basename(path)\n",
    "    print(\"This is end_file name:\", na_ext)\n",
    "    na = os.path.splitext(na_ext)[0]\n",
    "    return na\n",
    "\n",
    "dirt = \"G:/Bedkot_AI_Education/Exercise/Images_data/cat.9.jpg\"\n",
    "out = get_filename(dirt)\n",
    "print(out)"
   ]
  },
  {
   "cell_type": "code",
   "execution_count": 23,
   "metadata": {},
   "outputs": [
    {
     "name": "stdout",
     "output_type": "stream",
     "text": [
      "['G:/Bedkot_AI_Education/Exercise/Images_data/cat.10.jpg', 'G:/Bedkot_AI_Education/Exercise/Images_data/cat.11.jpg', 'G:/Bedkot_AI_Education/Exercise/Images_data/cat.113.jpg', 'G:/Bedkot_AI_Education/Exercise/Images_data/cat.12.jpg', 'G:/Bedkot_AI_Education/Exercise/Images_data/cat.13.jpg', 'G:/Bedkot_AI_Education/Exercise/Images_data/cat.14.jpg', 'G:/Bedkot_AI_Education/Exercise/Images_data/cat.16.jpg', 'G:/Bedkot_AI_Education/Exercise/Images_data/cat.17.jpg', 'G:/Bedkot_AI_Education/Exercise/Images_data/cat.18.jpg', 'G:/Bedkot_AI_Education/Exercise/Images_data/cat.19.jpg', 'G:/Bedkot_AI_Education/Exercise/Images_data/cat.20.jpg', 'G:/Bedkot_AI_Education/Exercise/Images_data/cat.9.jpg', 'G:/Bedkot_AI_Education/Exercise/Images_data/image.png']\n"
     ]
    }
   ],
   "source": [
    "#Example-5: Get file name from a path\n",
    "import os\n",
    "\n",
    "def get_all_filenames(data_split):\n",
    "    \n",
    "    file_paths = []  \n",
    "    for root, directories, files in os.walk(data_split):\n",
    "        for filename in files:\n",
    "            filepath = os.path.join(root, filename)\n",
    "            file_paths.append(filepath)  \n",
    "    return file_paths\n",
    "\n",
    "dirname = \"G:/Bedkot_AI_Education/Exercise/Images_data/\"\n",
    "out = get_all_filenames(dirname)\n",
    "print(out)"
   ]
  },
  {
   "cell_type": "code",
   "execution_count": 6,
   "metadata": {},
   "outputs": [
    {
     "name": "stdout",
     "output_type": "stream",
     "text": [
      "['cat.10.jpg', 'cat.11.jpg', 'cat.113.jpg', 'cat.12.jpg', 'cat.13.jpg', 'cat.14.jpg', 'cat.16.jpg', 'cat.17.jpg', 'cat.18.jpg', 'cat.19.jpg', 'cat.20.jpg', 'cat.9.jpg', 'image.png']\n"
     ]
    }
   ],
   "source": [
    "#Example-6: Make a python program to move or copy one or all files from one directory to other.\n",
    "import os\n",
    "import shutil\n",
    "\n",
    "def create_folder(fd):\n",
    "    if not os.path.exists(fd):\n",
    "        os.makedirs(fd)\n",
    "\n",
    "base_path = \"G:/Bedkot_AI_Education/Exercise/\"\n",
    "\n",
    "source = base_path+\"Images_data/\"\n",
    "destination = base_path+\"Images_data_BedKotAIEdu/\"\n",
    "\n",
    "create_folder(destination)\n",
    "\n",
    "allfiles = os.listdir(source)\n",
    "print(allfiles)\n",
    "\n",
    "for f in allfiles:\n",
    "    #shutil.move(source + f, destination + f)   #Move file\n",
    "    shutil.copy(source + f, destination + f)    #Copy files"
   ]
  },
  {
   "cell_type": "code",
   "execution_count": 42,
   "metadata": {},
   "outputs": [],
   "source": [
    "##Task 1\n",
    "##Write a program that can add \"_Data_Plus\" to the end of each file in a directory.\n",
    "## Hind: use OS liprary and replace() function "
   ]
  },
  {
   "cell_type": "code",
   "execution_count": 7,
   "metadata": {},
   "outputs": [],
   "source": [
    "#Example-7: Convert .csv file data into .txt file.\n",
    "\n",
    "import os\n",
    "import pandas as pd\n",
    "\n",
    "#Write only two column of csv into txt file\n",
    "base_path = 'G:/Bedkot_AI_Education/Exercise/CSV_Operation/'\n",
    "\n",
    "train_df = pd.read_csv(os.path.join(base_path, 'Fee_payment.csv'))\n",
    "\n",
    "# For Audio\n",
    "f= open(base_path + \"/Fee_payment.txt\",\"w+\")\n",
    "\n",
    "for idx, row in train_df.iterrows():   \n",
    "    filename = row[0]\n",
    "    event= str(row[1])\n",
    "    \n",
    "    f.write(filename + '\\t' + event + '\\n')\n",
    "f.close()"
   ]
  },
  {
   "cell_type": "code",
   "execution_count": 8,
   "metadata": {},
   "outputs": [],
   "source": [
    "import os\n",
    "import pandas as pd\n",
    "#Write several information to .txt from .csv\n",
    "base_path = 'G:/Bedkot_AI_Education/Exercise/CSV_Operation/'\n",
    "train_df = pd.read_csv(os.path.join(base_path, 'sample_one.csv'))\n",
    "# For Audio\n",
    "f= open(base_path + \"/sample_one_test.txt\",\"w+\")\n",
    "for idx, row in train_df.iterrows():\n",
    "    filename = row['Audiofilename']\n",
    "    event= row['Jungmori']\n",
    "    x1 = int(row['Starttime']) #or x1 = float(row['onset'])\n",
    "    x2 = int(row['Endtime'])\n",
    "    f.write(filename + ',' + str(x1) + ',' + str(x2) + ',' + event + '\\n')\n",
    "f.close()"
   ]
  },
  {
   "cell_type": "code",
   "execution_count": 43,
   "metadata": {},
   "outputs": [],
   "source": [
    "### Task2: Write a program to convert large number of .txt file into .csv file in a directory."
   ]
  },
  {
   "cell_type": "code",
   "execution_count": 44,
   "metadata": {},
   "outputs": [],
   "source": [
    "### Task3: Suppose you have a list [0.152264, 6.315308, 12.583487, 18.643744, 24.762218, 30.928, 37.19, 43.169695, 49.266612, 55.565, 61.934, 68.001842, 74.247843, 80.468893, 86.821, 93.052]. Generate 12 equal points in between each item in the list and save them in a .txt file. Make a python program with and without using “linspace” built-in function."
   ]
  },
  {
   "cell_type": "code",
   "execution_count": null,
   "metadata": {},
   "outputs": [],
   "source": [
    "### Task 4:#Example-13: Write a program to merge multiple .csv files into one."
   ]
  }
 ],
 "metadata": {
  "kernelspec": {
   "display_name": "Python 3",
   "language": "python",
   "name": "python3"
  },
  "language_info": {
   "codemirror_mode": {
    "name": "ipython",
    "version": 3
   },
   "file_extension": ".py",
   "mimetype": "text/x-python",
   "name": "python",
   "nbconvert_exporter": "python",
   "pygments_lexer": "ipython3",
   "version": "3.6.8"
  }
 },
 "nbformat": 4,
 "nbformat_minor": 2
}
