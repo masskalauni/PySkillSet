{
 "cells": [
  {
   "cell_type": "markdown",
   "metadata": {},
   "source": [
    "# Unit-3: Python Fundamental"
   ]
  },
  {
   "cell_type": "markdown",
   "metadata": {},
   "source": [
    "## 1. Function\n",
    "\n",
    "A function in programming is a reusable block of code designed to perform a specific task. \n",
    "\n",
    "Functions help in organizing code, making it more modular, readable, and maintainable. \n",
    "\n",
    "They can take inputs, called parameters, and can return outputs as a result."
   ]
  },
  {
   "cell_type": "markdown",
   "metadata": {},
   "source": [
    "In Python, a function is defined using the **`def`** keyword, followed by the function name, parentheses containing any parameters, and a colon.\n",
    "\n",
    "The function body is indented and contains the code to be executed.\n",
    "\n",
    "syntax:\n",
    "```python\n",
    "def function_name(parameters):  \n",
    "    # statements\n",
    "\n",
    "# In python in general the naming convention for variable and function is snake-case.\n",
    "```\n",
    "\n",
    "Here's an example:\n",
    "\n",
    "```python\n",
    "def greet(name):\n",
    "    return f\"Hello, {name}!\"\n",
    "```\n",
    "\n",
    "For using function execute following code:\n",
    "\n",
    "```python\n",
    "greet('KUcians') \n",
    "```\n",
    "\n",
    "Extected output: \n",
    "```python\n",
    "Hello, KUcians!\n",
    "```"
   ]
  },
  {
   "cell_type": "code",
   "execution_count": null,
   "metadata": {},
   "outputs": [
    {
     "ename": "",
     "evalue": "",
     "output_type": "error",
     "traceback": [
      "\u001b[1;31mRunning cells with 'Python 3.12.3' requires the ipykernel package.\n",
      "\u001b[1;31mRun the following command to install 'ipykernel' into the Python environment. \n",
      "\u001b[1;31mCommand: 'c:/Users/DELL/AppData/Local/Programs/Python/Python312/python.exe -m pip install ipykernel -U --user --force-reinstall'"
     ]
    }
   ],
   "source": [
    "def is_even(number):\n",
    "    if number % 2 == 0:\n",
    "        return True\n",
    "    else:\n",
    "        return False"
   ]
  },
  {
   "cell_type": "code",
   "execution_count": 2,
   "metadata": {},
   "outputs": [
    {
     "data": {
      "text/plain": [
       "True"
      ]
     },
     "execution_count": 2,
     "metadata": {},
     "output_type": "execute_result"
    }
   ],
   "source": [
    "is_even(2)"
   ]
  },
  {
   "cell_type": "code",
   "execution_count": 3,
   "metadata": {},
   "outputs": [
    {
     "data": {
      "text/plain": [
       "False"
      ]
     },
     "execution_count": 3,
     "metadata": {},
     "output_type": "execute_result"
    }
   ],
   "source": [
    "is_even(1)"
   ]
  },
  {
   "cell_type": "code",
   "execution_count": 9,
   "metadata": {},
   "outputs": [],
   "source": [
    "def sum_two_numbers(num1, num2):\n",
    "    sum = num1 + num2\n",
    "    return sum\n",
    "\n",
    "## OR ## \n",
    "\n",
    "def add_two_numbers(num1, num2):\n",
    "    return num1 + num2\n",
    "\n",
    "\n",
    "### Note: intermediate variable `sum` in first example."
   ]
  },
  {
   "cell_type": "code",
   "execution_count": 6,
   "metadata": {},
   "outputs": [
    {
     "data": {
      "text/plain": [
       "(4, 9)"
      ]
     },
     "execution_count": 6,
     "metadata": {},
     "output_type": "execute_result"
    }
   ],
   "source": [
    "sum_two_numbers(1, 3), add_two_numbers(3, 6)"
   ]
  },
  {
   "cell_type": "markdown",
   "metadata": {},
   "source": [
    "### 1.1 Function Parameters and Arguments"
   ]
  },
  {
   "cell_type": "markdown",
   "metadata": {},
   "source": [
    "**Parameters**: are variables listed inside the parenthesis in the function definition.\n",
    "\n",
    "**Arguments**: are the actual values passed to the function when it is called.\n",
    "\n",
    "**Example:**\n",
    "```python\n",
    "# Function definition with parameters\n",
    "def add(a, b):\n",
    "    return a + b\n",
    "\n",
    "# Function call with arguments\n",
    "result = add(3, 6)\n",
    "\n",
    "print(result)  # Output: 9\n",
    "```"
   ]
  },
  {
   "cell_type": "markdown",
   "metadata": {},
   "source": [
    "### 1.2 Different types of Functions"
   ]
  },
  {
   "cell_type": "markdown",
   "metadata": {},
   "source": [
    "#### 1.2.1 Positional Arguments"
   ]
  },
  {
   "cell_type": "markdown",
   "metadata": {},
   "source": [
    "They are passed to the function based on their position or order in the function call.\n",
    "\n",
    "**Example:**\n",
    "```python\n",
    "# Function definition with two positional arguments\n",
    "def greet(name, message):\n",
    "    return f\"{message}, {name}!\"\n",
    "\n",
    "# Function call with positional arguments\n",
    "greeting = greet(\"KUcians\", \"Happy Coding\")\n",
    "\n",
    "print(greeting)   # Output: Happy Coding, KUcians!\n",
    "```"
   ]
  },
  {
   "cell_type": "markdown",
   "metadata": {},
   "source": [
    "#### 1.2.2 Keyword Arguments"
   ]
  },
  {
   "cell_type": "markdown",
   "metadata": {},
   "source": [
    "**Keyword arguments** in Python allow you to specify arguments by their parameter names, regardless of their position in the function call. \n",
    "\n",
    "This provides clarity and flexibility, especially for functions with multiple parameters.\n",
    "\n",
    "**Example:**\n",
    "```python\n",
    "# Function definition with two positional arguments\n",
    "def greet(name, message):\n",
    "    return f\"{message}, {name}!\"\n",
    "\n",
    "# Function call with positional arguments\n",
    "greeting1 = greet(name=\"KUcians\", message=\"Happy Coding\")\n",
    "greeting2 = greet(message=\"Happy Coding\", name=\"KUcians\")  # NOTICE!!! the order of the arguments.\n",
    "\n",
    "print(greeting1)   # Output: Happy Coding, KUcians!\n",
    "print(greeting2)   # Output: Happy Coding, KUcians!\n",
    "```ns!\""
   ]
  },
  {
   "cell_type": "markdown",
   "metadata": {},
   "source": [
    "#### 1.2.3 Default Arguments"
   ]
  },
  {
   "cell_type": "markdown",
   "id": "3f420da6",
   "metadata": {},
   "source": [
    "# <font color='red'>Lab 1</color>\n",
    "**Re-write and run the example codes in <font color='red'>sections (1.2.1, 1.2.2, 1.2.3)</font> and play with it.**"
   ]
  },
  {
   "cell_type": "markdown",
   "metadata": {},
   "source": [
    "**Default arguments** in Python allow you to specify default values for parameters. If an argument is not provided when the function is called, the default value is used instead.\n",
    "\n",
    "**Example:**\n",
    "```python\n",
    "# Function definition with two positional arguments and one default one.\n",
    "def greet(name=\"KUcians\", message):\n",
    "    return f\"{message}, {name}!\"\n",
    "\n",
    "# Function call with positional arguments\n",
    "greeting = greet(message=\"Happy Coding\")                 # Option 1\n",
    "greeting1 = greet(message=\"Happy Coding\", name=\"Ashwin\") # Option 2\n",
    "\n",
    "print(greeting)   # Output: Happy Coding, KUcians!\n",
    "print(greeting1)  # Output: Happy Coding, Ashwin!\n",
    "```"
   ]
  },
  {
   "cell_type": "markdown",
   "metadata": {},
   "source": [
    "### 1.3 Variable Scope: Local vs global variables"
   ]
  },
  {
   "cell_type": "markdown",
   "metadata": {},
   "source": [
    "In programming, variable scope refers to where in the code a variable is accessible or visible. \n",
    "\n",
    "There are two main tytpes of variable scope: local and global.\n",
    "\n",
    "**1.3.1 Local Variables:**\n",
    "* Defined within a specifiec block of code, such as a function or a loop.\n",
    "* Accessible only within the block where they are declared.\n",
    "\n",
    "**Example:**\n",
    "```python\n",
    "def my_function():\n",
    "    x = 10\n",
    "    print(x)   # x is accessible here\n",
    "\n",
    "my_function()  # Output: 10\n",
    "\n",
    "# print(x)  # This would raise an error because x is not accessible here (i.e. outside the function block).\n",
    "```"
   ]
  },
  {
   "cell_type": "markdown",
   "metadata": {},
   "source": [
    "**1.3.2 Global Variables:**\n",
    "* Defined outside of any specific block of code.\n",
    "* Accessible throughout the entire program.\n",
    "* Can be modified from anywhere in the program.\n",
    "\n",
    "**Example:**\n",
    "```python\n",
    "x = 10   # global variable\n",
    "\n",
    "def my_function():\n",
    "    print(x)   # x is accessible here\n",
    "\n",
    "my_function()\n",
    "\n",
    "print(x)  # x is also accessible here\n",
    "\n",
    "def another_function():\n",
    "    global x\n",
    "    x = 20  # modifying the global variable x\n",
    "\n",
    "another_function()   \n",
    "\n",
    "print(x)   # prints 20 as x has been modified globally in function `another_function()`\n",
    "\n",
    "```\n",
    "\n",
    "**`Note:` Understanding variable scope is crucial for writing clean, organized, and bug-free code.**"
   ]
  },
  {
   "cell_type": "markdown",
   "metadata": {},
   "source": [
    "# <font color='red'>Lab 2</font>\n",
    "\n",
    "**Re-write and run the code examples in <font color='red'>section (1.3.1, 1.3.2)</font>**"
   ]
  },
  {
   "cell_type": "markdown",
   "metadata": {},
   "source": [
    "# <font color='red'>Lab 3</font>\n",
    "\n",
    "write a function that takes an integer as argument. \n",
    "\n",
    "return \"KU\" if it is divisible by 3, \"AIC\" when it is divisible by 5 and \"KUAIC\" when it is divisible by 3 and 5 both.\n",
    "\n",
    "**Hint:**\n",
    "```python\n",
    "\n",
    "def my_func(num):\n",
    "    # code here.\n",
    "\n",
    "# Expected output should be as follows.\n",
    "    \n",
    "my_func(3)  # Output: 'KU'\n",
    "my_func(5)  # Output: 'AIC'\n",
    "my_func(15) # Output: 'KUAIC'\n",
    "my_func(21) # Output: 'KU'\n",
    "my_func(35) # Output: 'AIC'\n",
    "my_func(30) # Output: 'KUAIC'\n",
    "```"
   ]
  },
  {
   "cell_type": "markdown",
   "metadata": {},
   "source": [
    "## Function annotations (Type Hints)"
   ]
  },
  {
   "cell_type": "markdown",
   "metadata": {},
   "source": [
    "* It provides a way to indicate the expected data types of function arguments and return values.\n",
    "* These annotations help improve code readability and can assist in static type checking, but do not enforce type checking at runtime.\n",
    "\n",
    "*  **Definition** Type hints use the syntax of placing a colon `:` followed by the type after each parameter in the function definition.\n",
    "*  The return type is indicated after an arrow `->` following the parameter list.\n",
    "\n",
    "**Example:**\n",
    "Here's a simple example of a function with type hints:\n",
    "```python\n",
    "def add(a: int, b: int) -> int:\n",
    "    return a + b\n",
    "```"
   ]
  },
  {
   "cell_type": "markdown",
   "metadata": {},
   "source": [
    "In this example:\n",
    "* `a: int` indicates that \\`a\\` is expected to be an integer.\n",
    "* `b: int` indicates that \\`b\\` is expected to be an integer.\n",
    "* `-> int` indicates that the function is expected to return an integer.\n",
    "\n",
    "**summary:** The function **\\`add\\`** takes two arguments, **'a'** and **'b'**, both of which are integers, and it returns an integer, which is the result of adding **'a'** and **'b'**."
   ]
  },
  {
   "cell_type": "markdown",
   "metadata": {},
   "source": [
    "# <font color='red'>Lab 4</font>"
   ]
  },
  {
   "cell_type": "markdown",
   "metadata": {},
   "source": [
    "1. Write a function that takes list of integers as parameters, square each elements and return it as list of integers.\n",
    "2. In above case, sum the elements of list and return it. (use both built-in methods and explicitly for loop also.)\n",
    "\n",
    "**Hint:**\n",
    "```python\n",
    "from typing import List\n",
    "\n",
    "### first case\n",
    "def square_list(list: List[int]) -> List[int]:\n",
    "    # your code here.\n",
    "\n",
    "### Expected\n",
    "# nums = [1, 2, 3]\n",
    "# square_list(nums)  # Output: [1, 4, 9]\n",
    "\n",
    "### second case\n",
    "def sum_list(list: List[int]) -> int:\n",
    "    # your code here.\n",
    "\n",
    "### Expected\n",
    "# nums1 = [1, 2, 3]\n",
    "# sum_list(nums1)  # Output: 6\n",
    "```"
   ]
  },
  {
   "cell_type": "markdown",
   "metadata": {},
   "source": [
    "## *args and **kwargs"
   ]
  },
  {
   "cell_type": "markdown",
   "metadata": {},
   "source": [
    "**\\*args**: is used to pass a variable number of non-keyword arguments to a function, allows you to handle more arguments than the number of formal parameters you previously defined.\n",
    "\n",
    "**Example:**\n",
    "```python\n",
    "def my_func(*args):\n",
    "    for arg in args:\n",
    "        print(arg)\n",
    "\n",
    "my_func(1,2,3)\n",
    "\n",
    "# Output: \n",
    "# 1 \n",
    "# 2\n",
    "# 3\n",
    "```\n",
    "\n",
    "**\\`my_func\\`** can accept any number of positional arguments. When you call **\\`my_func(1,2,3)\\`**, the valuese are passes as a tuple to **\\`args\\`**."
   ]
  },
  {
   "cell_type": "markdown",
   "metadata": {},
   "source": [
    "**\\*\\*kwargs:** allows you to pass a variable number of keyword arguments (arguments with a key-value pair) to a function. It collects these arguments as a dictionary.\n",
    "nd\")"
   ]
  },
  {
   "cell_type": "markdown",
   "metadata": {},
   "source": [
    "## <font color='red'>Lab 6 </font>\n",
    "Write a program that takes variable/any number of integer arguments and return their sums (as above example)"
   ]
  },
  {
   "cell_type": "markdown",
   "id": "c5505a83",
   "metadata": {},
   "source": []
  },
  {
   "cell_type": "code",
   "execution_count": 60,
   "metadata": {},
   "outputs": [
    {
     "name": "stdout",
     "output_type": "stream",
     "text": [
      "name: Ajay\n",
      "age: 30\n",
      "city: Pokhara\n"
     ]
    }
   ],
   "source": [
    "def my_func(**kwargs):\n",
    "    for key, value in kwargs.items():\n",
    "        print(f\"{key}: {value}\")\n",
    "my_func(name=\"Ajay\", age=30, city=\"Pokhara\")"
   ]
  },
  {
   "cell_type": "code",
   "execution_count": 22,
   "metadata": {},
   "outputs": [],
   "source": [
    "def greet(name, **kwargs):\n",
    "  # kwargs is now a dictionary\n",
    "  message = f\"Hello, {name}!\"\n",
    "  if \"title\" in kwargs:\n",
    "    message = f\"{kwargs['title']}. {message}\"\n",
    "  if \"language\" in kwargs:\n",
    "    message += f\" ({kwargs['language']})\"\n",
    "  print(message)a"
   ]
  },
  {
   "cell_type": "code",
   "execution_count": 23,
   "metadata": {},
   "outputs": [
    {
     "name": "stdout",
     "output_type": "stream",
     "text": [
      "Ms.. Hello, Alice! (English)\n",
      "Hello, Bob!\n"
     ]
    }
   ],
   "source": [
    "greet(\"Alice\", title=\"Ms.\", language=\"English\")  # Output: Ms. Hello, Alice! (English)\n",
    "\n",
    "greet(\"Bob\")  # Output: Hello, Bob!"
   ]
  },
  {
   "cell_type": "markdown",
   "metadata": {},
   "source": [
    "## Function Decorator"
   ]
  },
  {
   "cell_type": "markdown",
   "metadata": {},
   "source": [
    "**Decorators** in python are designed to **add the extra functionality** to the **functions or methods** without directly modifying their source code.\n",
    "\n",
    "* Like logging each time it's called."
   ]
  },
  {
   "cell_type": "code",
   "execution_count": 42,
   "metadata": {},
   "outputs": [
    {
     "name": "stdout",
     "output_type": "stream",
     "text": [
      "Calling function say_hello\n"
     ]
    },
    {
     "data": {
      "text/plain": [
       "'Hello, KUcians!'"
      ]
     },
     "execution_count": 42,
     "metadata": {},
     "output_type": "execute_result"
    }
   ],
   "source": [
    "def log_function(func):\n",
    "    def wrapper():\n",
    "        print(f\"Calling function {func.__name__}\")\n",
    "        return func()\n",
    "    return wrapper\n",
    "\n",
    "# Applying decorator\n",
    "@log_function   # This means that `log_function` decorator is applied to `say_hello` function\n",
    "def say_hello():\n",
    "    return \"Hello, KUcians!\"\n",
    "\n",
    "say_hello()"
   ]
  },
  {
   "cell_type": "markdown",
   "metadata": {},
   "source": [
    "```python\n",
    "# Above code is equivalent to \n",
    "say_hello = log_function(say_hello)\n",
    "```"
   ]
  },
  {
   "cell_type": "code",
   "execution_count": 55,
   "metadata": {},
   "outputs": [],
   "source": [
    "# Additional examples\n",
    "def square(func):\n",
    "    def wrapper(*args, **kwargs):\n",
    "        val = func(*args, **kwargs)\n",
    "        return val * val\n",
    "    return wrapper\n",
    "\n",
    "def sum(func):\n",
    "    def wrapper(*args, **kwargs):\n",
    "        val = func(*args, **kwargs)\n",
    "        return val + val\n",
    "    return wrapper\n",
    "\n",
    "### you can do as well (single parameter)\n",
    "# def sum(func):\n",
    "#     def wrapper(args):\n",
    "#         val = func(args)\n",
    "#         return val + val\n",
    "#     return wrapper\n",
    "\n",
    "\n",
    "# Function 1\n",
    "@square\n",
    "def square_number(num):\n",
    "    return num\n",
    "\n",
    "# Function 2\n",
    "@sum\n",
    "def sum_number(num):\n",
    "    return num\n"
   ]
  },
  {
   "cell_type": "code",
   "execution_count": 56,
   "metadata": {},
   "outputs": [
    {
     "name": "stdout",
     "output_type": "stream",
     "text": [
      "9\n",
      "10\n"
     ]
    }
   ],
   "source": [
    "print(square_number(3))\n",
    "print(sum_number(5))"
   ]
  },
  {
   "cell_type": "markdown",
   "metadata": {},
   "source": [
    "## <font color='red'>Lab 7</font>"
   ]
  },
  {
   "cell_type": "markdown",
   "metadata": {},
   "source": [
    "Create a decorator, so that we could increment the value by 1.\n",
    "\n",
    "**Hint:**\n",
    "```python\n",
    "def increment_by_one(func):\n",
    "    def wrapper(*args, **kwargs):\n",
    "        return None # Your code here.\n",
    "    return None     # Your code here.\n",
    "\n",
    "@increment_by_one\n",
    "def give_number(num):\n",
    "    return num\n",
    "\n",
    "print(give_number(3))  # Output: 4\n",
    "\n",
    "```"
   ]
  },
  {
   "cell_type": "code",
   "execution_count": null,
   "metadata": {},
   "outputs": [],
   "source": []
  },
  {
   "cell_type": "code",
   "execution_count": 63,
   "metadata": {},
   "outputs": [
    {
     "name": "stdout",
     "output_type": "stream",
     "text": [
      "name: Alice\n",
      "age: 30\n",
      "city: Wonderland\n"
     ]
    }
   ],
   "source": [
    "def my_function(**kwargs):\n",
    "    for key, value in kwargs.items():\n",
    "        print(f\"{key}: {value}\")\n",
    "\n",
    "my_function(name=\"Alice\", age=30, city=\"Wonderland\")"
   ]
  },
  {
   "cell_type": "markdown",
   "metadata": {},
   "source": [
    "# <font color='red'>Lab 8 </font>\n"
   ]
  },
  {
   "cell_type": "markdown",
   "metadata": {},
   "source": [
    "write a program that takes two dictionaries as argument one containing price and another containing quantity. Calculate the total cost of medicine, using these dictionaries"
   ]
  },
  {
   "cell_type": "markdown",
   "id": "84ccc704",
   "metadata": {},
   "source": []
  },
  {
   "cell_type": "markdown",
   "id": "55f9d843",
   "metadata": {},
   "source": []
  },
  {
   "cell_type": "markdown",
   "metadata": {},
   "source": [
    "**Hint:**\n",
    "```python\n",
    "medicine_prices = {\n",
    "    \"Paracetamol\": 0.25,\n",
    "    \"Ibuprofen\": 0.30,\n",
    "    \"Amoxicillin\": 0.50,\n",
    "    \"Ciprofloxacin\": 0ti\n",
    "\n",
    "medicine_quantity = {} \n",
    "\n",
    "```\n",
    "\n",
    "Write a function to create a dictionary of quantity (i.e., medicine_quantity) which are provided from user.n\": 0.55\n",
    "}"
   ]
  },
  {
   "cell_type": "markdown",
   "metadata": {},
   "source": [
    "## ArgumentParser"
   ]
  },
  {
   "cell_type": "markdown",
   "metadata": {},
   "source": [
    "```python\n",
    "import argparse\n",
    "\n",
    "def add_numbers(a, b):\n",
    "    return a + b\n",
    "\n",
    "def main():\n",
    "    parser = argparse.ArgumentParser(description='Add two numbers.')\n",
    "    parser.add_argument('num1', type=float, help='First number')\n",
    "    parser.add_argument('num2', type=float, help='Second number')\n",
    "\n",
    "    args = parser.parse_args()\n",
    "    result = add_numbers(args.num1, args.num2)\n",
    "    \n",
    "    print(f'The result of adding {args.num1} and {args.num2} is {result}')\n",
    "\n",
    "if __name__ == '__main__':\n",
    "    main()\n",
    "\n",
    "```\n",
    "\n",
    "**In main()** function\n",
    "* The **ArgumentParser** object is created with a description of the script's purpose.\n",
    "* **add_argument** is used to define the positional arguments **num1** and **num2**, which are expected to be floating-point numbers.\n",
    "* **parse_args** parses the command-line arguments.\n",
    "* The **add_numbers** function is called with the parsed arguments, and the result is printed."
   ]
  },
  {
   "cell_type": "markdown",
   "metadata": {},
   "source": [
    "For running above code Use commant prompt (or terminal in case of Mac or Linux)\n",
    "\n",
    "```python\n",
    "$ python add_numbers.py 3 5\n",
    "```"
   ]
  },
  {
   "cell_type": "markdown",
   "metadata": {},
   "source": [
    "# <font color='red'>Lab 9 </font>"
   ]
  },
  {
   "cell_type": "markdown",
   "metadata": {},
   "source": [
    "Rewrite the above program to do multiplication (of two numbers)."
   ]
  },
  {
   "cell_type": "markdown",
   "metadata": {},
   "source": [
    "# <font color='red'> Lab 10 </font>"
   ]
  },
  {
   "cell_type": "markdown",
   "metadata": {},
   "source": [
    "write a function to convert temperature from fahrenheit to celcius.\n",
    "\n",
    "$celcius = (fahrenheit - 32) * 5/9$\n",
    "\n",
    "Print the output upto two decimal points.\n",
    "\n",
    "Take input from the user."
   ]
  },
  {
   "cell_type": "code",
   "execution_count": null,
   "metadata": {},
   "outputs": [],
   "source": []
  }
 ],
 "metadata": {
  "kernelspec": {
   "display_name": "Python 3",
   "language": "python",
   "name": "python3"
  },
  "language_info": {
   "codemirror_mode": {
    "name": "ipython",
    "version": 3
   },
   "file_extension": ".py",
   "mimetype": "text/x-python",
   "name": "python",
   "nbconvert_exporter": "python",
   "pygments_lexer": "ipython3",
   "version": "3.12.3"
  }
 },
 "nbformat": 4,
 "nbformat_minor": 5
}
