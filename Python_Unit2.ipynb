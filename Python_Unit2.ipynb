{
 "cells": [
  {
   "cell_type": "markdown",
   "metadata": {
    "id": "mnxThO9LjNyk"
   },
   "source": [
    "# Recap Previous Section\n",
    "\n",
    "## Data Types: Primitive and Non-Primitive Types\n",
    "\n",
    "In Python, data types are classified into primitive and non-primitive types.\n",
    "\n",
    "**Primitive Types:** They are the most basic data types and are built into the Python language and typically store single values.\n",
    "\n",
    "1. **Integer**: Represents whole numbers. For **example**: age = 25\n",
    "2. **Float**: Represents floating-point numbers (decimals). For **example**: price = 19.99\n",
    "3. **String**: Represents sequences of characters. For **example**: name = \"Alice\"\n",
    "4. **Boolean**: Represents True or False values. For **example**: is_student = True\n",
    "5. **Complex (complex)**: Represents complex numbers. For **example**: complex_number = 3 + 4j\n",
    "\n",
    "**Non-Primitive Types:** Non-primitive data types are more complex and can store multiple values or a collection of values.\n",
    "\n",
    "1. **List**: Ordered collection of items. For **example**: fruits = [\"apple\", \"banana\", \"cherry\"]\n",
    "2. **Tuple**: Ordered and immutable collection of items. For **example**: coordinates = (10, 20)\n",
    "3. **Dictionary**: Collection of key-value pairs. For **example**: student_info = {\"name\": \"Alice\", \"age\": 25, \"is_student\": True}\n",
    "4. **Set**: Unordered collection of unique items. For **example**: unique_numbers = {1, 2, 3, 4, 5}"
   ]
  },
  {
   "cell_type": "code",
   "execution_count": null,
   "metadata": {
    "id": "RwKAUnCEjA3U"
   },
   "outputs": [],
   "source": [
    "# Primitive Types\n",
    "integer_example = 10\n",
    "print(type(integer_example))  # <class 'int'>\n",
    "\n",
    "float_example = 10.5\n",
    "print(type(float_example))  # <class 'float'>\n",
    "\n",
    "string_example = \"Hello, Python!\"\n",
    "print(type(string_example))  # <class 'str'>\n",
    "\n",
    "boolean_example = True\n",
    "print(type(boolean_example))  # <class 'bool'>\n",
    "\n",
    "# Non-Primitive Types\n",
    "list_example = [1, 2, 3, 4, 5]\n",
    "print(type(list_example))  # <class 'list'>\n",
    "\n",
    "tuple_example = (1, 2, 3, 4, 5)\n",
    "print(type(tuple_example))  # <class 'tuple'>\n",
    "\n",
    "dict_example = {\"name\": \"Alice\", \"age\": 25}\n",
    "print(type(dict_example))  # <class 'dict'>\n",
    "\n",
    "set_example = {1, 2, 3, 4, 5}\n",
    "print(type(set_example))  # <class 'set'>\n"
   ]
  },
  {
   "cell_type": "markdown",
   "metadata": {
    "id": "34zV0FfEp_sN"
   },
   "source": [
    "## Task 1:\n",
    "- Define a variable for each primitive type and assign an appropriate value."
   ]
  },
  {
   "cell_type": "code",
   "execution_count": null,
   "metadata": {
    "id": "8MAy_cQJnns9"
   },
   "outputs": [],
   "source": [
    "integer_var = None\n",
    "float_var = None\n",
    "string_var = None\n",
    "boolean_var = None"
   ]
  },
  {
   "cell_type": "code",
   "execution_count": null,
   "metadata": {
    "id": "ul24pvarqC_F"
   },
   "outputs": [],
   "source": [
    "#DO NOT CHANGE THE FOLLOWING CODE ONLY RUN IT\n",
    "assert isinstance(integer_var, int)\n",
    "assert isinstance(float_var, float)\n",
    "assert isinstance(string_var, str)\n",
    "assert isinstance(boolean_var, bool)"
   ]
  },
  {
   "cell_type": "markdown",
   "metadata": {
    "id": "rNX2lkVoqnve"
   },
   "source": [
    "### Variables: Variable Naming Conventions\n",
    "\n",
    "In Python, variables are used to store data. Here are some rules for naming variables:\n",
    "\n",
    "- Variable names must start with a letter or an underscore.\n",
    "- The name can contain letters, numbers, and underscores (A-z, 0-9, and _).\n",
    "- Variable names are case-sensitive."
   ]
  },
  {
   "cell_type": "code",
   "execution_count": null,
   "metadata": {
    "id": "TbR7z1xrqogN"
   },
   "outputs": [],
   "source": [
    "# Valid variable names\n",
    "my_variable = 10\n",
    "anotherVariable = \"Python\"\n",
    "_variable = True\n",
    "\n",
    "# Invalid variable names\n",
    "# 2ndVariable = 20  # Cannot start with a number\n",
    "# my-variable = 30  # Cannot contain hyphens\n"
   ]
  },
  {
   "cell_type": "markdown",
   "metadata": {
    "id": "aOEhwfkduzPO"
   },
   "source": [
    "### Conditional Statements: if, else, elif statement\n",
    "\n",
    "Conditional statements allow you to execute different code blocks based on conditions.\n",
    "\n",
    "#### Operators\n",
    "\n",
    "Before diving into conditional statements, it's important to understand the types of operators you can use in conditions:\n",
    "\n",
    "1. **Arithmetic Operators**: `+`, `-`, `*`, `/`, `%`, `**`, `//`\n",
    "2. **Comparison Operators**: `==`, `!=`, `>`, `<`, `>=`, `<=`\n",
    "3. **Logical Operators**: `and`, `or`, `not`\n",
    "4. **Assignment Operators**: `=`, `+=`, `-=`, `*=`, `/=`, `%=`, `**=`, `//=`\n",
    "5. **Bitwise Operators**: `&`, `|`, `^`, `~`, `<<`, `>>`\n",
    "6. **Membership Operators**: `in`, `not in`\n",
    "7. **Identity Operators**: `is`, `is not`"
   ]
  },
  {
   "cell_type": "markdown",
   "metadata": {
    "id": "dozqBDGYvIP-"
   },
   "source": [
    "Syntax\n",
    "```python\n",
    "if condition:\n",
    "    # code block\n",
    "elif another_condition:\n",
    "    # another code block\n",
    "else:\n",
    "    # else block\n",
    "```"
   ]
  },
  {
   "cell_type": "markdown",
   "metadata": {
    "id": "T7C2NX1FvZpm"
   },
   "source": [
    "#Example"
   ]
  },
  {
   "cell_type": "code",
   "execution_count": null,
   "metadata": {
    "id": "6XTnj7MVu48W"
   },
   "outputs": [],
   "source": [
    "age = 18\n",
    "if age < 18:\n",
    "    print(\"You are a minor.\")\n",
    "elif age == 18:\n",
    "    print(\"You just became an adult!\")\n",
    "else:\n",
    "    print(\"You are an adult.\")\n"
   ]
  },
  {
   "cell_type": "markdown",
   "metadata": {
    "id": "LYFloS4Aves3"
   },
   "source": [
    "# Task 2\n",
    "Write a program that checks if the given number is 'Positive', 'Negative', or 'Zero' and store the string in `result` variable\n"
   ]
  },
  {
   "cell_type": "code",
   "execution_count": null,
   "metadata": {},
   "outputs": [
    {
     "ename": "",
     "evalue": "",
     "output_type": "error",
     "traceback": [
      "\u001b[1;31mRunning cells with 'Python 3.12.1' requires the ipykernel package.\n",
      "\u001b[1;31mRun the following command to install 'ipykernel' into the Python environment. \n",
      "\u001b[1;31mCommand: 'c:/Users/DELL/AppData/Local/Programs/Python/Python312/python.exe -m pip install ipykernel -U --user --force-reinstall'"
     ]
    }
   ],
   "source": []
  },
  {
   "cell_type": "markdown",
   "metadata": {},
   "source": []
  },
  {
   "cell_type": "code",
   "execution_count": null,
   "metadata": {
    "id": "Vd60cEZ9vlFb"
   },
   "outputs": [],
   "source": [
    "number = 10\n",
    "result = None\n",
    "# Write the code below this comment\n"
   ]
  },
  {
   "cell_type": "code",
   "execution_count": null,
   "metadata": {
    "id": "kVv6lEkdvx2X"
   },
   "outputs": [],
   "source": [
    "#DO NOT CHANGE THE FOLLOWING CODE ONLY RUN IT\n",
    "assert result == \"Positive\""
   ]
  },
  {
   "cell_type": "markdown",
   "metadata": {
    "id": "hrfb_oJdwY1m"
   },
   "source": [
    "# Loops: for loop, while loop\n",
    "\n",
    "Loops allow you to iterate over a sequence of elements.\n",
    "\n",
    "for Loop Syntax\n",
    "```python\n",
    "for element in sequence:\n",
    "    # code block\n",
    "```\n",
    "while Loop Syntax\n",
    "```python\n",
    "while condition:\n",
    "    # code block\n",
    "```\n",
    "Examples"
   ]
  },
  {
   "cell_type": "code",
   "execution_count": null,
   "metadata": {
    "id": "4wpRcIWqwlft"
   },
   "outputs": [],
   "source": [
    "# Prints numbers from 0 to 4\n",
    "# for loop example\n",
    "for i in range(5):\n",
    "    print(i,end = \" \")\n",
    "\n",
    "print('\\n')\n",
    "\n",
    "# while loop example\n",
    "count = 0\n",
    "while count < 5:\n",
    "    print(count,end=' ')\n",
    "    count += 1"
   ]
  },
  {
   "cell_type": "markdown",
   "metadata": {
    "id": "N8rk7_n0xpDn"
   },
   "source": [
    "# Task 3\n",
    "## Write a for loop that prints out all even numbers from 1 to 10\n"
   ]
  },
  {
   "cell_type": "code",
   "execution_count": null,
   "metadata": {
    "id": "hAMtFcA4w78u"
   },
   "outputs": [],
   "source": [
    "even_numbers = []\n",
    "# Write the code Below\n"
   ]
  },
  {
   "cell_type": "code",
   "execution_count": null,
   "metadata": {
    "id": "vcjD9X0ByBaP"
   },
   "outputs": [],
   "source": [
    "#DO NOT CHANGE THE FOLLOWING CODE ONLY RUN IT\n",
    "assert even_numbers == [2, 4, 6, 8, 10]"
   ]
  },
  {
   "cell_type": "markdown",
   "metadata": {
    "id": "2_6jNd4A23WA"
   },
   "source": [
    "\n",
    "# Unit-2: Python Fundamentals "
   ]
  },
  {
   "cell_type": "markdown",
   "metadata": {
    "id": "8GiARar06k1w"
   },
   "source": [
    "### Data Structures: Mutable and Non-Mutable\n",
    "\n",
    "In Python, data structures are used to store and organize data. They are classified into two main categories:\n",
    "\n",
    " - **Mutable Data Structures**: These can be modified after their creation. Examples\n",
    " include lists, dictionaries, and sets.\n",
    "\n",
    " - **Immutable Data Structures**: These cannot be changed once created. Examples\n",
    " include tuples, strings, and frozensets."
   ]
  },
  {
   "cell_type": "markdown",
   "metadata": {
    "id": "VdO5ryR15SRg"
   },
   "source": [
    "\n",
    "\n",
    "**Mutable Data Structures:**\n",
    "\n",
    "- **List**: Ordered collection of items. Methods: `append()`, `remove()`, `sort()`, etc.\n",
    "- **Dictionary**: Collection of key-value pairs. Methods: `keys()`, `values()`, `items()`, etc.\n",
    "- **Set**: Unordered collection of unique items. Methods: `add()`, `remove()`, `union()`, etc.\n",
    "\n",
    "**Non-Mutable Data Structures:**\n",
    "\n",
    "- **Tuple**: Ordered, immutable collection of items. Methods: `count()`, `index()`.\n",
    "- **String**: Sequence of characters. Methods: `upper()`, `lower()`, `split()`, etc."
   ]
  },
  {
   "cell_type": "markdown",
   "metadata": {
    "id": "lx-kPDMo56To"
   },
   "source": [
    "### Example"
   ]
  },
  {
   "cell_type": "code",
   "execution_count": null,
   "metadata": {
    "id": "2_Ju2vw_24m_"
   },
   "outputs": [],
   "source": [
    "# Mutable Data Structures\n",
    "# List\n",
    "list_example = [1, 2, 3]\n",
    "list_example.append(4)\n",
    "print(list_example)  # Output: [1, 2, 3, 4]\n",
    "\n",
    "# Dictionary\n",
    "dict_example = {\"name\": \"Alice\", \"age\": 25}\n",
    "dict_example[\"age\"] = 26\n",
    "print(dict_example)  # Output: {'name': 'Alice', 'age': 26}\n",
    "\n",
    "# Set\n",
    "set_example = {1, 2, 3}\n",
    "set_example.add(4)\n",
    "print(set_example)  # Output: {1, 2, 3, 4}\n",
    "\n",
    "# Non-Mutable Data Structures\n",
    "# Tuple\n",
    "tuple_example = (1, 2, 3)\n",
    "print(tuple_example[0])  # Output: 1\n",
    "\n",
    "# String\n",
    "string_example = \"Hello\"\n",
    "print(string_example.upper())  # Output: HELLO"
   ]
  },
  {
   "cell_type": "markdown",
   "metadata": {
    "id": "YcU2wtXi7Tsg"
   },
   "source": [
    "# Lists\n",
    "\n",
    "Lists are ordered collections of items. They are mutable, meaning you can change their content without changing their identity.\n"
   ]
  },
  {
   "cell_type": "code",
   "execution_count": 1,
   "metadata": {
    "colab": {
     "base_uri": "https://localhost:8080/"
    },
    "id": "ev6Hm8n9Cjkq",
    "outputId": "6f2b9df8-2a1d-4eab-d2d9-bc1262d5c022"
   },
   "outputs": [
    {
     "name": "stdout",
     "output_type": "stream",
     "text": [
      "List : [1, 2, 3, 4]\n",
      "<class 'list'>\n"
     ]
    }
   ],
   "source": [
    "# To create an list wrap the elements inside of square brackets as demonstrated below\n",
    "a = [1,2,3,4]\n",
    "print(\"List :\", a)\n",
    "print(type(a))"
   ]
  },
  {
   "cell_type": "markdown",
   "metadata": {
    "id": "vm33NkfAC3x0"
   },
   "source": [
    "# 1. Indexing"
   ]
  },
  {
   "cell_type": "markdown",
   "metadata": {
    "id": "YLsJSBtaC6g6"
   },
   "source": [
    "1. Lists are ordered collections of elements.\n",
    "    - Each element in a list has a unique position known as its index.\n",
    "    - Indexing starts from 0 for the first element, 1 for the second, and so on.\n",
    "2. **Accessing Elements**:\n",
    "  - You can access elements in a list using square brackets `[ ]` with the index of the element you want.\n",
    "    ```python\n",
    "    my_list = [10, 20, 30, 40]\n",
    "    print(my_list[0])  # Output: 10\n",
    "    print(my_list[2])  # Output: 30\n",
    "    ```\n",
    "    \n",
    "3. Negative Indexing:\n",
    "  - Negative indices count from the end of the list, starting with -1 for the last element.\n",
    "  ```python\n",
    "  my_list = [10, 20, 30, 40]\n",
    "  print(my_list[-1])  # Output: 40\n",
    "  print(my_list[-3])  # Output: 20\n",
    "  ```\n",
    "Example:     \n",
    "4. **Modifying Elements**:\n",
    "  - You can change the value of an element in a list using its index.\n",
    "  ```python\n",
    "  my_list = [10, 20, 30, 40]\n",
    "  my_list[1] = 25\n",
    "  print(my_list)  # Output: [10, 25, 30, 40]\n",
    "  ```"
   ]
  },
  {
   "cell_type": "markdown",
   "metadata": {
    "id": "D6AZjj2XEmWb"
   },
   "source": [
    "# Task 4"
   ]
  },
  {
   "cell_type": "markdown",
   "metadata": {
    "id": "z-ZIlpREFAJ7"
   },
   "source": [
    "- Put the first element in its corresponding variable\n",
    "- Change the last element of the list to 12"
   ]
  },
  {
   "cell_type": "code",
   "execution_count": null,
   "metadata": {
    "id": "GwRKR7DLC6OE"
   },
   "outputs": [],
   "source": [
    "li = [1,2,3,4,5,6]\n",
    "first_element = None\n",
    "\n",
    "# Write the code below\n",
    "\n",
    "first_element = li[0]\n",
    "print(first_element)"
   ]
  },
  {
   "cell_type": "code",
   "execution_count": null,
   "metadata": {
    "id": "EUNXJm4uFgb6"
   },
   "outputs": [],
   "source": [
    "#DO NOT CHANGE THE FOLLOWING CODE ONLY RUN IT\n",
    "assert first_element == 1\n",
    "assert li == [1,2,3,4,5,12]"
   ]
  },
  {
   "cell_type": "markdown",
   "metadata": {
    "id": "T4xf5HqaGG_D"
   },
   "source": [
    "# 2. List Slicing\n",
    "\n",
    "1. **Slicing Basics**:\n",
    "    \n",
    "    - List slicing allows you to extract a portion of a list.\n",
    "    - Syntax: `list[start:stop:step]`.\n",
    "      - `start` is the index where the slice starts (inclusive).\n",
    "      - `stop` is the index where the slice ends (exclusive).\n",
    "      - `step` is the size of the step between elements (optional, default is 1)\n",
    "2. **Basic Slicing**:\n",
    "- If you provide only `start`, it will slice from that index to the end of the list.\n",
    "- If you provide only `stop`, it will slice from the beginning of the list up to (but not including) that index."
   ]
  },
  {
   "cell_type": "markdown",
   "metadata": {
    "id": "PQ2CKSAwHAXz"
   },
   "source": [
    "## Example"
   ]
  },
  {
   "cell_type": "code",
   "execution_count": null,
   "metadata": {
    "id": "670xbhxCGzjb"
   },
   "outputs": [],
   "source": [
    "\n",
    "my_list = [1, 2, 3, 4, 5]\n",
    "print(my_list[1:4])  # Output: [2, 3, 4]\n",
    "\n",
    "# Negative indices can be used in slicing to count from the end of the list.\n",
    "my_list = [1, 2, 3, 4, 5]\n",
    "print(my_list[-3:-1])  # Output: [3, 4]\n",
    "\n",
    "# You can specify a step value to skip elements in the slice.\n",
    "my_list = [1, 2, 3, 4, 5, 6, 7, 8, 9]\n",
    "print(my_list[1:7:2])  # Output: [2, 4, 6]\n",
    "\n",
    "my_list = [1, 2, 3, 4, 5]\n",
    "print(my_list[:3])  # Output: [1, 2, 3]\n",
    "print(my_list[3:])  # Output: [4, 5]\n",
    "print(my_list[:])   # Output: [1, 2, 3, 4, 5]\n",
    "\n",
    "# You can also reverse a list using step size -1\n",
    "print(my_list[::-1])\n"
   ]
  },
  {
   "cell_type": "markdown",
   "metadata": {
    "id": "Bbk0eJnqHDUL"
   },
   "source": [
    "# Task 5:"
   ]
  },
  {
   "cell_type": "markdown",
   "metadata": {
    "id": "zkjgsz-tH7hy"
   },
   "source": [
    "Use slicing to create a list, downstairs, that contains the first 6 elements of areas by using slicing method.\n",
    "Do a similar thing to create a new variable, upstairs, that contains the last 4 elements of areas by using slicing method.\n",
    "\n"
   ]
  },
  {
   "cell_type": "code",
   "execution_count": null,
   "metadata": {
    "id": "PiziwHzHHG4L"
   },
   "outputs": [],
   "source": [
    "areas = [\"hallway\", 11.25, \"kitchen\", 18.0, \"living room\", 20.0, \"bedroom\", 10.75, \"bathroom\", 9.50]\n",
    "sliced_areas = []\n",
    "# Your code here\n",
    "#Print downstairs Output: ['hallway', 11.25, 'kitchen', 18.0, 'living room', 20.0]\n"
   ]
  },
  {
   "cell_type": "code",
   "execution_count": null,
   "metadata": {
    "id": "MaOeu6_NIDvx"
   },
   "outputs": [],
   "source": [
    "assert even_numbers == [2, 4, 6, 8, 10]"
   ]
  },
  {
   "cell_type": "markdown",
   "metadata": {
    "id": "4L3l2aTJJIMx"
   },
   "source": [
    "# 3. Sorting"
   ]
  },
  {
   "cell_type": "markdown",
   "metadata": {
    "id": "EFARV_nIKcfk"
   },
   "source": [
    "Sorts the list in place (alphabetically or numerically)."
   ]
  },
  {
   "cell_type": "code",
   "execution_count": 2,
   "metadata": {
    "colab": {
     "base_uri": "https://localhost:8080/"
    },
    "id": "nE9GS9-0ItBb",
    "outputId": "f0e20408-72aa-4f66-e6b1-8b4b1976270c"
   },
   "outputs": [
    {
     "name": "stdout",
     "output_type": "stream",
     "text": [
      "Ascending Order: [1, 2, 3, 5, 8]\n",
      "Descending Order [8, 5, 3, 2, 1]\n",
      "['is', 'my', 'Python', 'favorite', 'language']\n"
     ]
    }
   ],
   "source": [
    "unsorted_list = [5, 2, 8, 1, 3]\n",
    "unsorted_list.sort()\n",
    "print(\"Ascending Order:\",unsorted_list)\n",
    "\n",
    "# Sort the numbers in descending order\n",
    "unsorted_list.sort(reverse=True)\n",
    "print(\"Descending Order\", unsorted_list)\n",
    "\n",
    "# Sorts the list on the basis of string's length in ascending order\n",
    "area = ['Python', 'is', 'my', 'favorite', 'language']\n",
    "area.sort(key=len)\n",
    "print(area) # Output: ['is', 'my', 'Python', 'favorite', 'language']"
   ]
  },
  {
   "cell_type": "markdown",
   "metadata": {
    "id": "HjkHi7LmIDFr"
   },
   "source": [
    "# Task 6\n",
    "From given list: words = [\"elephant\", \"dog\", \"hippopotamus\", \"cat\", \"giraffe\"]\n",
    "1. Sort the words by their length in ascending order."
   ]
  },
  {
   "cell_type": "code",
   "execution_count": null,
   "metadata": {
    "id": "k0XF6icnLuMs"
   },
   "outputs": [],
   "source": [
    "words = [\"elephant\", \"dog\", \"hippopotamus\", \"cat\", \"giraffe\"]\n",
    "# Write the code below"
   ]
  },
  {
   "cell_type": "code",
   "execution_count": null,
   "metadata": {
    "id": "L1XuQge2L1tb"
   },
   "outputs": [],
   "source": [
    "assert words == ['dog', 'cat', 'giraffe', 'elephant', 'hippopotamus']"
   ]
  },
  {
   "cell_type": "markdown",
   "metadata": {
    "id": "9jE28LuWNh4U"
   },
   "source": [
    "# 4. List Comprehension"
   ]
  },
  {
   "cell_type": "code",
   "execution_count": null,
   "metadata": {
    "id": "1042Z0oWNzXS"
   },
   "outputs": [],
   "source": [
    "# Creating list from 1 to 11\n",
    "num = []\n",
    "\n",
    "for i in range(1,11):\n",
    "  num.append(i)\n",
    "print(num)\n",
    "\n",
    "# Same code in list comprehension\n",
    "num = [i for i in range(1,11)]\n",
    "print(num)"
   ]
  },
  {
   "cell_type": "code",
   "execution_count": null,
   "metadata": {
    "id": "Msw7x7o5ORBk"
   },
   "outputs": [],
   "source": [
    "even = []\n",
    "# Getting even numbers from 1 to 100\n",
    "for i in range(1,100):\n",
    "  if i%2==0:\n",
    "    even.append(i)\n",
    "print(even)\n",
    "\n",
    "# Same code in list comprehension\n",
    "even = [i for i in range(1,100) if i%2==0]\n",
    "print(even)"
   ]
  },
  {
   "cell_type": "markdown",
   "metadata": {
    "id": "M4xwoZifOzMk"
   },
   "source": [
    "# Task 7\n",
    "Create a list with odd numbers from range 1 to 20 and store it in variable `odd`"
   ]
  },
  {
   "cell_type": "code",
   "execution_count": null,
   "metadata": {
    "id": "voVHAE_7O3pa"
   },
   "outputs": [],
   "source": [
    "odd = []\n",
    "# Write the code below"
   ]
  },
  {
   "cell_type": "code",
   "execution_count": null,
   "metadata": {
    "id": "Fj4GZdFHPGlc"
   },
   "outputs": [],
   "source": [
    "assert odd==[1, 3, 5, 7, 9, 11, 13, 15, 17, 19]"
   ]
  },
  {
   "cell_type": "markdown",
   "metadata": {
    "id": "IPpcEOOqPigC"
   },
   "source": [
    "# 5. Looping Two Lists Simultaneously (zip())"
   ]
  },
  {
   "cell_type": "markdown",
   "metadata": {
    "id": "1mtWUbhsQJX0"
   },
   "source": [
    "Given two lists, create a new list containing tuples where each tuple contains elements from the corresponding positions of the two lists.\n",
    "\n"
   ]
  },
  {
   "cell_type": "code",
   "execution_count": null,
   "metadata": {
    "id": "OPFzybErPkOc"
   },
   "outputs": [],
   "source": [
    "# Example:\n",
    "list1 = [1, 2, 3]\n",
    "list2 = ['a', 'b', 'c']\n",
    "for num, char in zip(list1, list2):\n",
    "    print(num, char)\n",
    "# Output:\n",
    "# 1 a\n",
    "# 2 b\n",
    "# 3 c"
   ]
  },
  {
   "cell_type": "markdown",
   "metadata": {
    "id": "lX_JXBLxPoBN"
   },
   "source": [
    "# Task 8\n"
   ]
  },
  {
   "cell_type": "markdown",
   "metadata": {
    "id": "k4oB3pRsQRp1"
   },
   "source": [
    "Given 2 lists `a` and `b` use zip and create a new list `c` where each element of c is the sum of elements of a and b"
   ]
  },
  {
   "cell_type": "code",
   "execution_count": null,
   "metadata": {
    "id": "WdSliwFfPmvl"
   },
   "outputs": [],
   "source": [
    "a =  [1,2,3,4,5]\n",
    "b = [3,4,1,5,6]\n",
    "c = []\n",
    "# So, c[0] should be a[0]+b[0]\n",
    "# Write the code below\n"
   ]
  },
  {
   "cell_type": "code",
   "execution_count": null,
   "metadata": {
    "id": "WqdcWh69QwEN"
   },
   "outputs": [],
   "source": [
    "assert c == [4,6,4,9,11]"
   ]
  },
  {
   "cell_type": "markdown",
   "metadata": {
    "id": "pAjm7DiERPNk"
   },
   "source": [
    "# 6. Enumerate\n",
    "Given a list of names, print each name along with its index in the list."
   ]
  },
  {
   "cell_type": "code",
   "execution_count": null,
   "metadata": {
    "id": "ek6l-fHQRZPL"
   },
   "outputs": [],
   "source": [
    "# Given list of colors\n",
    "colors = [\"red\", \"green\", \"blue\"]\n",
    "\n",
    "# Use enumerate() to prepend each string with its index and display the modified strings\n",
    "for index, color in enumerate(colors, start=1):\n",
    "    print(f\"{index}: {color}\")\n",
    "# 1: red\n",
    "# 2: green\n",
    "# 3: blue"
   ]
  },
  {
   "cell_type": "markdown",
   "metadata": {
    "id": "xELaCPfJRqz7"
   },
   "source": [
    "# Task 9\n",
    "- Given the lists: fruits = ['apple', 'banana', 'orange']\n",
    "- Use the enumerate() function to iterate over the fruits list.\n",
    "For each fruit in the fruits list, print the fruit and its index (starting from 1) in the colors list.\n",
    "- Output:\n",
    "```\n",
    "Fruit: apple, Index: 1\n",
    "Fruit: banana, Index: 2\n",
    "Fruit: orange, Index: 3\n",
    "```"
   ]
  },
  {
   "cell_type": "code",
   "execution_count": 3,
   "metadata": {
    "id": "HN_1LbvVRilt"
   },
   "outputs": [],
   "source": [
    "fruits = ['apple', 'banana', 'orange']\n",
    "# Write your code below"
   ]
  },
  {
   "cell_type": "markdown",
   "metadata": {
    "id": "HnzAbtS5Cky6"
   },
   "source": [
    "#### List Methods in Python\n",
    "\n",
    "- **len()**: Get the length of a list.\n",
    "- **extend()**: Extend a list by appending elements from another iterable.\n",
    "- **index()**: Find the index of the first occurrence of a value in the list.\n",
    "- **max()**: Find the maximum value in a list.\n",
    "- **min()**: Find the minimum value in a list.\n",
    "- **clear()**: Remove all elements from a list.\n",
    "- **pop()**: Remove and return the last element from a list, or remove the element at a specified index.\n",
    "- **insert()**: Insert an element at a specified index.\n",
    "\n",
    "#### Concatenating Lists\n",
    "\n",
    "- Concatenating lists: Join two or more lists together to form a single list."
   ]
  },
  {
   "cell_type": "code",
   "execution_count": null,
   "metadata": {
    "id": "xa3zLrRd6J_W"
   },
   "outputs": [],
   "source": [
    "my_list = [1, 2, 3, 4, 5]\n",
    "length = len(my_list)\n",
    "print(length)  # Output: 5\n",
    "\n",
    "list1 = [1, 2, 3]\n",
    "list2 = [4, 5, 6]\n",
    "list1.extend(list2)\n",
    "print(list1)  # Output: [1, 2, 3, 4, 5, 6]\n",
    "\n",
    "my_list = [10, 20, 30, 40, 50]\n",
    "index = my_list.index(30)\n",
    "print(index)  # Output: 2\n",
    "\n",
    "my_list = [10, 20, 30, 40, 50]\n",
    "maximum = max(my_list)\n",
    "print(maximum)  # Output: 50\n",
    "\n",
    "my_list = [10, 20, 30, 40, 50]\n",
    "minimum = min(my_list)\n",
    "print(minimum)  # Output: 10\n",
    "\n",
    "my_list = [1, 2, 3, 4, 5]\n",
    "my_list.clear()\n",
    "print(my_list)  # Output: []\n",
    "\n",
    "my_list = [1, 2, 3, 4, 5]\n",
    "popped_element = my_list.pop()\n",
    "print(popped_element)  # Output: 5\n",
    "\n",
    "my_list = [1, 2, 3, 4, 5]\n",
    "my_list.insert(2, 10)\n",
    "print(my_list)  # Output: [1, 2, 10, 3, 4, 5]\n",
    "\n",
    "#Concatinating Lists\n",
    "\n",
    "list1 = [1, 2, 3]\n",
    "list2 = [4, 5, 6]\n",
    "concatenated_list = list1 + list2\n",
    "print(concatenated_list)  # Output: [1, 2, 3, 4, 5, 6]\n"
   ]
  },
  {
   "cell_type": "markdown",
   "metadata": {
    "id": "GJoa0r8dTpXN"
   },
   "source": [
    "# Dictionary\n",
    "- A dictionary in Python is an unordered collection of key-value pairs.\n",
    "- Dictionaries are created using curly braces {} and consist of key-value pairs separated by commas.\n",
    "\n"
   ]
  },
  {
   "cell_type": "code",
   "execution_count": null,
   "metadata": {
    "id": "WnNxijHs9DGJ"
   },
   "outputs": [],
   "source": [
    "# Creating a dictionary of student names and their ages\n",
    "student_dict = {\"Alice\": 20, \"Bob\": 22, \"Charlie\": 21}\n",
    "print(student_dict)\n",
    "print(type(student_dict))"
   ]
  },
  {
   "cell_type": "markdown",
   "metadata": {
    "id": "WIIp78KDUaVF"
   },
   "source": [
    "### Accessing Values with Keys\n",
    "\n",
    "You can access values in a dictionary using square brackets `[]` with the key, or using the `get()` method. Their difference lies in how they handle missing keys:\n",
    "\n",
    "- `Dict[key]`: Raises a KeyError if the key is not found.\n",
    "- `Dict.get(key)`: Returns `None` if the key is not found."
   ]
  },
  {
   "cell_type": "code",
   "execution_count": null,
   "metadata": {
    "id": "7qgLwYWxUQ6k"
   },
   "outputs": [],
   "source": [
    "# Accessing value with key\n",
    "print(student_dict[\"Alice\"])  # Output: 20\n",
    "\n",
    "# Using get() method\n",
    "print(student_dict.get(\"Bob\"))  # Output: 22\n",
    "print(student_dict.get(\"David\"))  # Output: None\n"
   ]
  },
  {
   "cell_type": "markdown",
   "metadata": {
    "id": "Tzfw23nDUm4l"
   },
   "source": [
    "### Other Useful Dictionary Methods\n",
    "\n",
    "1. `update()`: Updates the dictionary with the specified key-value pairs.\n",
    "    \n",
    "2. `values()`: Returns a view of all values in the dictionary.\n",
    "    \n",
    "3. `keys()`: Returns a view of all keys in the dictionary.\n",
    "    \n",
    "4. `items()`: Returns a view of all key-value pairs in the dictionary.\n",
    "    \n",
    "5. `clear()`: Removes all key-value pairs from the dictionary.\n",
    "    \n",
    "6. `pop()`: Removes and returns the value of the specified key.\n",
    "    \n",
    "7. `len()`: Returns the number of key-value pairs in the dictionary."
   ]
  },
  {
   "cell_type": "code",
   "execution_count": null,
   "metadata": {
    "id": "ONnDcdX0UhQ1"
   },
   "outputs": [],
   "source": [
    "# Update dictionary\n",
    "student_dict.update({\"David\": 23})\n",
    "\n",
    "# Get all values\n",
    "print(student_dict.values())\n",
    "\n",
    "# Get all keys\n",
    "print(student_dict.keys())\n",
    "\n",
    "# Get all items (key-value pairs)\n",
    "print(student_dict.items())\n",
    "\n",
    "# Clear dictionary\n",
    "student_dict.clear()\n",
    "\n",
    "# Length of dictionary\n",
    "print(len(student_dict))\n"
   ]
  },
  {
   "cell_type": "markdown",
   "metadata": {
    "id": "wuG0YJyAVyo2"
   },
   "source": [
    "# Task 9\n",
    "\n",
    "You have been given a dictionary `student_dict` containing information about students' ages. Perform the following operations:\n",
    "\n",
    "1. Update the dictionary to include a new student named \"David\" with age 23.\n",
    "2. Print all the values in the dictionary.\n",
    "3. Print all the keys in the dictionary.\n",
    "4. Print all the key-value pairs in the dictionary.\n",
    "5. Clear the dictionary.\n",
    "6. Print the length of the dictionary.\n",
    "\n",
    "### Expected Output:\n",
    "```\n",
    "# Values\n",
    "dict_values([20, 22, 21, 23])\n",
    "\n",
    "# Keys\n",
    "dict_keys(['Alice', 'Bob', 'Charlie', 'David'])\n",
    "\n",
    "# Items\n",
    "dict_items([('Alice', 20), ('Bob', 22), ('Charlie', 21), ('David', 23)])\n",
    "\n",
    "# Length\n",
    "0\n",
    "```"
   ]
  },
  {
   "cell_type": "code",
   "execution_count": null,
   "metadata": {
    "id": "aJ6ScB0vV4Ec"
   },
   "outputs": [],
   "source": [
    "student_dict = {\"Alice\": 20, \"Bob\": 22, \"Charlie\": 21}\n",
    "#Write the code below"
   ]
  },
  {
   "cell_type": "markdown",
   "metadata": {
    "id": "SJDTLpKfU3vm"
   },
   "source": [
    "### Iterating Over Dictionary\n",
    "You can iterate over a dictionary using a for loop.\n",
    "\n",
    "Example:"
   ]
  },
  {
   "cell_type": "code",
   "execution_count": null,
   "metadata": {
    "id": "0mlt55bzUv6U"
   },
   "outputs": [],
   "source": [
    "student_dict = {\"Alice\": 20, \"Bob\": 22, \"Charlie\": 21}\n",
    "for key, value in student_dict.items():\n",
    "    print(f\"{key}: {value}\")\n"
   ]
  },
  {
   "cell_type": "markdown",
   "metadata": {
    "id": "oKKXubJvVQdV"
   },
   "source": [
    "# Dictionary Comprehension\n",
    "Dictionary comprehension provides a concise way to create dictionaries."
   ]
  },
  {
   "cell_type": "code",
   "execution_count": null,
   "metadata": {
    "id": "y1q4op19U7SE"
   },
   "outputs": [],
   "source": [
    "# Creating a dictionary of squares of numbers from 1 to 5\n",
    "squares_dict = {num: num**2 for num in range(1, 6)}\n",
    "print(squares_dict)\n"
   ]
  },
  {
   "cell_type": "markdown",
   "metadata": {
    "id": "HcP-MQYnWbp1"
   },
   "source": [
    "# Tuples"
   ]
  },
  {
   "cell_type": "markdown",
   "metadata": {
    "id": "i8DUxP4fWfIJ"
   },
   "source": [
    "Tuples in Python are ordered collections of elements, similar to lists. However, tuples are immutable, meaning their elements cannot be changed or modified after creation. Tuples are defined using parentheses `()` and can contain elements of different data types.\n",
    "\n",
    "```python\n",
    "my_tuple = (1, 2, 'a', 'b', True)\n",
    "```\n",
    "**Characteristics of Tuples:**\n",
    "\n",
    "- **Ordered:** Elements in a tuple maintain their order, just like in lists.\n",
    "- **Immutable:** Once created, the elements of a tuple cannot be changed, added, or removed.\n",
    "- **Heterogeneous:** Tuples can contain elements of different data types.\n",
    "\n",
    "**Use Cases for Tuples:**\n",
    "\n",
    "- Tuples are often used to represent fixed collections of items, such as coordinates, dates, or database records.\n",
    "- They can also be used as keys in dictionaries due to their immutability."
   ]
  },
  {
   "cell_type": "code",
   "execution_count": null,
   "metadata": {
    "id": "FG7NBkwdXZ4R"
   },
   "outputs": [],
   "source": [
    "tup = (1,2,3)\n",
    "print(tup)\n",
    "print(type(tup))"
   ]
  },
  {
   "cell_type": "markdown",
   "metadata": {
    "id": "khn8cjIDXZCu"
   },
   "source": [
    "### **1. `count()`:**\n",
    "\n",
    "Returns the number of occurrences of a specified value in the tuple.\n",
    "\n",
    "**Syntax:**\n",
    "\n",
    "`tuple.count(value)`"
   ]
  },
  {
   "cell_type": "code",
   "execution_count": null,
   "metadata": {
    "id": "I7wCPsP2VWED"
   },
   "outputs": [],
   "source": [
    "my_tuple = (1, 2, 3, 1, 4, 1)\n",
    "count_of_ones = my_tuple.count(1)\n",
    "print(count_of_ones)  # Output: 3\n"
   ]
  },
  {
   "cell_type": "markdown",
   "metadata": {
    "id": "MBEnVTA2XqVW"
   },
   "source": [
    "### 2. index():\n",
    "\n",
    "Returns the index of the first occurrence of a specified value in the tuple.\n",
    "\n",
    "Syntax:\n",
    "\n",
    "```python\n",
    "tuple.index(value[, start[, end]])\n",
    "```"
   ]
  },
  {
   "cell_type": "code",
   "execution_count": null,
   "metadata": {
    "id": "WkGX3LZeXkEy"
   },
   "outputs": [],
   "source": [
    "my_tuple = (10, 20, 30, 40, 50)\n",
    "index_of_30 = my_tuple.index(30)\n",
    "print(index_of_30)  # Output: 2"
   ]
  },
  {
   "cell_type": "markdown",
   "metadata": {
    "id": "AXdyIOcNYDrf"
   },
   "source": [
    "# Task 10\n",
    "You have been given a tuple `my_tuple` containing the ages of students. Perform the following operations:\n",
    "\n",
    "1. Count the number of occurrences of the age 20 in the tuple.\n",
    "2. Find the index of the first occurrence of the age 25 in the tuple."
   ]
  },
  {
   "cell_type": "markdown",
   "metadata": {
    "id": "RQnA68vsYNDX"
   },
   "source": [
    "####Expected output:\n",
    "```\n",
    "Number of occurrences of 20: 2\n",
    "Index of first occurrence of 25: 4\n",
    "```"
   ]
  },
  {
   "cell_type": "code",
   "execution_count": null,
   "metadata": {
    "id": "Z1aRXE4oX43T"
   },
   "outputs": [],
   "source": [
    "my_tuple = (18, 20, 22, 20, 25, 21)\n",
    "# Your code here\n"
   ]
  },
  {
   "cell_type": "markdown",
   "metadata": {
    "id": "GAcxK58sYS5G"
   },
   "source": [
    "# Set\n",
    "Sets in Python are unordered collections of unique elements. They are similar to mathematical sets and do not allow duplicate elements. Sets are defined using curly braces `{}` or the `set()` constructor.\n",
    "\n",
    "Example of a Set:\n",
    "\n",
    "```python\n",
    "my_set = {1, 2, 3, 4, 5}\n",
    "\n",
    "```\n",
    "**Characteristics of Sets:**\n",
    "\n",
    "- **Unordered:** Elements in a set are not stored in any particular order.\n",
    "- **Unique Elements:** Sets do not allow duplicate elements. If you try to add a duplicate element, it will be ignored.\n",
    "- **Mutable:** Sets are mutable, meaning you can add or remove elements after creation.\n",
    "- **Heterogeneous:** Sets can contain elements of different data types.\n",
    "\n",
    "**Use Cases for Sets:**\n",
    "\n",
    "- Removing duplicates from a list.\n",
    "- Checking for membership (whether an element is present in the set) efficiently."
   ]
  },
  {
   "cell_type": "code",
   "execution_count": null,
   "metadata": {
    "id": "xxTD-Z6dYr2D"
   },
   "outputs": [],
   "source": [
    "# Sets can be created using curly braces {} or the set() constructor.\n",
    "my_set = {1, 2, 3}\n",
    "empty_set = set()\n",
    "print(my_set,empty_set)"
   ]
  },
  {
   "cell_type": "markdown",
   "metadata": {
    "id": "2vDsllGmZBre"
   },
   "source": [
    "# Set's Methods\n",
    "1. **`add()`:**\n",
    "    \n",
    "    - Adds a single element to the set.\n",
    "    - Syntax: `set.add(element)`.\n",
    "2. **`update()`:**\n",
    "    \n",
    "    - Adds elements from another iterable (list, tuple, etc.) to the set.\n",
    "    - Syntax: `set.update(iterable)`.\n",
    "3. **`remove()`:**\n",
    "    \n",
    "    - Removes a specified element from the set. Raises a KeyError if the element is not present.\n",
    "    - Syntax: `set.remove(element)`.\n",
    "\n",
    "5. **`pop()`:**\n",
    "    \n",
    "    - Removes and returns an arbitrary element from the set. Raises a KeyError if the set is empty.\n",
    "    - Syntax: `set.pop()`.\n",
    "6. **`clear()`:**\n",
    "    \n",
    "    - Removes all elements from the set.\n",
    "    - Syntax: `set.clear()`.\n",
    "7. **`copy()`:**\n",
    "    \n",
    "    - Returns a shallow copy of the set.\n",
    "    - Syntax: `new_set = set.copy()`.\n",
    "8. **`union()`:**\n",
    "    \n",
    "    - Returns a new set containing all unique elements from two or more sets.\n",
    "    - Syntax: `union_set = set1.union(set2)` or `union_set = set1 | set2`.\n",
    "9. **`intersection()`:**\n",
    "    \n",
    "    - Returns a new set containing only elements that are present in both sets.\n",
    "    - Syntax: `intersection_set = set1.intersection(set2)` or `intersection_set = set1 & set2`.\n",
    "10. **`difference()`:**\n",
    "    \n",
    "    - Returns a new set containing elements that are present in the first set but not in the second set.\n",
    "    - Syntax: `difference_set = set1.difference(set2)` or `difference_set = set1 - set2`.\n",
    "\n",
    "12. **`issubset()`:**\n",
    "    \n",
    "    - Returns `True` if all elements of the set are present in another set (the superset).\n",
    "    - Syntax: `is_subset = set1.issubset(set2)`.\n",
    "13. **`issuperset()`:**\n",
    "    \n",
    "    - Returns `True` if all elements of another set (the subset) are present in the set.\n",
    "    - Syntax: `is_superset = set1.issuperset(set2)`"
   ]
  },
  {
   "cell_type": "code",
   "execution_count": null,
   "metadata": {
    "id": "pUNXWSY3YzCt"
   },
   "outputs": [],
   "source": [
    "# Creating a set\n",
    "my_set = {1, 2, 3, 4}\n",
    "\n",
    "# Using add() method\n",
    "my_set.add(5)\n",
    "print(my_set)  # Output: {1, 2, 3, 4, 5}\n",
    "\n",
    "# Using update() method\n",
    "my_set.update([6, 7, 8])\n",
    "print(my_set)  # Output: {1, 2, 3, 4, 5, 6, 7, 8}\n",
    "\n",
    "# Using remove() method\n",
    "my_set.remove(5)\n",
    "print(my_set)  # Output: {1, 2, 3, 4, 6, 7, 8}\n",
    "\n",
    "# Using pop() method\n",
    "popped_element = my_set.pop()\n",
    "print(popped_element)  # Output: 1\n",
    "print(my_set)  # Output: {2, 3, 4, 6, 7, 8}\n",
    "\n",
    "# Using clear() method\n",
    "my_set.clear()\n",
    "print(my_set)  # Output: set()\n",
    "\n",
    "# Using copy() method\n",
    "my_set = {1, 2, 3}\n",
    "new_set = my_set.copy()\n",
    "print(new_set)  # Output: {1, 2, 3}\n",
    "\n",
    "# Using union() method\n",
    "set1 = {1, 2, 3}\n",
    "set2 = {3, 4, 5}\n",
    "union_set = set1.union(set2)\n",
    "print(union_set)  # Output: {1, 2, 3, 4, 5}\n",
    "\n",
    "# Using intersection() method\n",
    "intersection_set = set1.intersection(set2)\n",
    "print(intersection_set)  # Output: {3}\n",
    "\n",
    "# Using difference() method\n",
    "difference_set = set1.difference(set2)\n",
    "print(difference_set)  # Output: {1, 2}\n",
    "\n",
    "# Using issubset() method\n",
    "subset = {1, 2}\n",
    "is_subset = subset.issubset(set1)\n",
    "print(is_subset)  # Output: True\n",
    "\n",
    "# Using issuperset() method\n",
    "issuperset = set1.issuperset(subset)\n",
    "print(issuperset)  # Output: True\n"
   ]
  },
  {
   "cell_type": "markdown",
   "metadata": {
    "id": "-dj5lHwUZ6P2"
   },
   "source": [
    "# Task 11\n",
    "\n",
    "You have been given two sets, `set1` and `set2`. Perform the following set operations:\n",
    "\n",
    "1. Find the intersection of `set1` and `set2`.\n",
    "2. Find the union of `set1` and `set2`.\n",
    "3. Find the set difference of `set1` and `set2` (elements in `set1` but not in `set2`)."
   ]
  },
  {
   "cell_type": "code",
   "execution_count": null,
   "metadata": {
    "id": "PpEkLbZzaAjN"
   },
   "outputs": [],
   "source": [
    "set1 = {1, 2, 3, 4}\n",
    "set2 = {3, 4, 5, 6}\n",
    "# Write the code below\n"
   ]
  },
  {
   "cell_type": "markdown",
   "metadata": {
    "id": "b7QfhJTDbvts"
   },
   "source": [
    "# That's all for your attention. Happy Learning!!!"
   ]
  }
 ],
 "metadata": {
  "colab": {
   "collapsed_sections": [
    "mnxThO9LjNyk",
    "T7C2NX1FvZpm",
    "LYFloS4Aves3",
    "hrfb_oJdwY1m",
    "N8rk7_n0xpDn",
    "lx-kPDMo56To",
    "YcU2wtXi7Tsg",
    "vm33NkfAC3x0",
    "D6AZjj2XEmWb",
    "T4xf5HqaGG_D",
    "Bbk0eJnqHDUL",
    "4L3l2aTJJIMx",
    "HjkHi7LmIDFr",
    "9jE28LuWNh4U",
    "M4xwoZifOzMk",
    "IPpcEOOqPigC",
    "lX_JXBLxPoBN",
    "pAjm7DiERPNk",
    "xELaCPfJRqz7",
    "GJoa0r8dTpXN",
    "SJDTLpKfU3vm",
    "oKKXubJvVQdV",
    "HcP-MQYnWbp1",
    "AXdyIOcNYDrf",
    "GAcxK58sYS5G",
    "2vDsllGmZBre"
   ],
   "provenance": []
  },
  "kernelspec": {
   "display_name": "Python 3",
   "language": "python",
   "name": "python3"
  },
  "language_info": {
   "codemirror_mode": {
    "name": "ipython",
    "version": 3
   },
   "file_extension": ".py",
   "mimetype": "text/x-python",
   "name": "python",
   "nbconvert_exporter": "python",
   "pygments_lexer": "ipython3",
   "version": "3.12.1"
  }
 },
 "nbformat": 4,
 "nbformat_minor": 1
}
