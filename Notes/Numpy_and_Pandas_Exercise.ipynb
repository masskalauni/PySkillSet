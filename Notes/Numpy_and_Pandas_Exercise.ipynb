{
 "cells": [
  {
   "cell_type": "code",
   "execution_count": 1,
   "id": "1628720d-29d9-4406-a73d-b04b77f47c3f",
   "metadata": {},
   "outputs": [],
   "source": [
    "import numpy as np\n"
   ]
  },
  {
   "cell_type": "code",
   "execution_count": 3,
   "id": "69dd2db7-06d7-49e8-be8d-e19ba0705b33",
   "metadata": {},
   "outputs": [
    {
     "name": "stdout",
     "output_type": "stream",
     "text": [
      "[4 6 7 9 2 5]\n"
     ]
    }
   ],
   "source": [
    "my1D_arr = np.array([4,6,7,9,2,5])\n",
    "print(my1D_arr)"
   ]
  },
  {
   "cell_type": "code",
   "execution_count": 4,
   "id": "f6020111-3a01-4d4e-8a5a-5ca69f037cd5",
   "metadata": {},
   "outputs": [
    {
     "name": "stdout",
     "output_type": "stream",
     "text": [
      "[3 3 9 2 9 1]\n"
     ]
    }
   ],
   "source": [
    "x1 = np.random.randint(10, size=6)\n",
    "print(x1)"
   ]
  },
  {
   "cell_type": "code",
   "execution_count": 5,
   "id": "4ec84ab8-7b77-423b-a672-37ab8b422a80",
   "metadata": {},
   "outputs": [
    {
     "name": "stdout",
     "output_type": "stream",
     "text": [
      "[[3 4 2 2 1]\n",
      " [2 7 9 8 2]\n",
      " [4 8 7 6 4]]\n"
     ]
    }
   ],
   "source": [
    "x2 = np.random.randint(10, size=(3, 5))\n",
    "print(x2)"
   ]
  },
  {
   "cell_type": "code",
   "execution_count": 14,
   "id": "20300de6-51a3-4b25-b76d-c21cfc15fe6a",
   "metadata": {},
   "outputs": [
    {
     "name": "stdout",
     "output_type": "stream",
     "text": [
      "[[[6 5]\n",
      "  [5 5]\n",
      "  [7 5]\n",
      "  [8 9]\n",
      "  [0 1]]\n",
      "\n",
      " [[2 5]\n",
      "  [9 0]\n",
      "  [8 4]\n",
      "  [6 1]\n",
      "  [8 2]]\n",
      "\n",
      " [[6 2]\n",
      "  [0 3]\n",
      "  [2 1]\n",
      "  [8 1]\n",
      "  [1 5]]]\n"
     ]
    }
   ],
   "source": [
    "x3 = np.random.randint(10, size=(3, 5, 2))\n",
    "print(x3)"
   ]
  },
  {
   "cell_type": "code",
   "execution_count": 9,
   "id": "636582ab-bb67-42ce-bcae-8c1f528edc00",
   "metadata": {},
   "outputs": [
    {
     "name": "stdout",
     "output_type": "stream",
     "text": [
      "[[4 6 7 9 2 5]\n",
      " [4 6 6 2 1 9]\n",
      " [4 6 7 9 2 5]\n",
      " [4 6 7 9 2 5]]\n"
     ]
    }
   ],
   "source": [
    "my2D_arr = np.array([[4,6,7,9,2,5],[4,6,6,2,1,9], [4,6,7,9,2,5], [4,6,7,9,2,5]])\n",
    "print(my2D_arr)"
   ]
  },
  {
   "cell_type": "code",
   "execution_count": 10,
   "id": "51df42d5-31a3-42c2-a9f1-f1eac64b0290",
   "metadata": {},
   "outputs": [
    {
     "name": "stdout",
     "output_type": "stream",
     "text": [
      "(4, 6)\n"
     ]
    }
   ],
   "source": [
    "print(my2D_arr.shape)"
   ]
  },
  {
   "cell_type": "code",
   "execution_count": 11,
   "id": "87a00b85-28ec-455b-a5f9-7a5a1741b27d",
   "metadata": {},
   "outputs": [
    {
     "name": "stdout",
     "output_type": "stream",
     "text": [
      "<memory at 0x0000020685F63370>\n"
     ]
    }
   ],
   "source": [
    "print(my2D_arr.data)"
   ]
  },
  {
   "cell_type": "code",
   "execution_count": 12,
   "id": "a2725615-73ee-4100-99af-adff32d3b047",
   "metadata": {},
   "outputs": [
    {
     "name": "stdout",
     "output_type": "stream",
     "text": [
      "int32\n"
     ]
    }
   ],
   "source": [
    "print(my2D_arr.dtype)"
   ]
  },
  {
   "cell_type": "code",
   "execution_count": 20,
   "id": "de248320-71a0-4680-8b47-023814f39557",
   "metadata": {},
   "outputs": [
    {
     "name": "stdout",
     "output_type": "stream",
     "text": [
      "[[0 0 0 0 0 0 0 0]\n",
      " [0 0 0 0 0 0 0 0]]\n"
     ]
    }
   ],
   "source": [
    "one_array = np.zeros((2,8), dtype=np.int16)\n",
    "print(one_array)"
   ]
  },
  {
   "cell_type": "code",
   "execution_count": 19,
   "id": "c1ebb4cd-5066-4ff3-98ce-7feabad15897",
   "metadata": {},
   "outputs": [
    {
     "name": "stdout",
     "output_type": "stream",
     "text": [
      "int16\n"
     ]
    }
   ],
   "source": [
    "print(one_array.dtype)"
   ]
  },
  {
   "cell_type": "code",
   "execution_count": 21,
   "id": "7b5a28fd-4bbc-44cd-9261-d4c4e0ba1e33",
   "metadata": {},
   "outputs": [
    {
     "name": "stdout",
     "output_type": "stream",
     "text": [
      "[4.         4.55555556 5.11111111 5.66666667 6.22222222 6.77777778\n",
      " 7.33333333 7.88888889 8.44444444 9.        ]\n"
     ]
    }
   ],
   "source": [
    "array = np.linspace(4, 9, 10)\n",
    "print(array)"
   ]
  },
  {
   "cell_type": "code",
   "execution_count": 22,
   "id": "9a6c1d6e-1ee7-4bb7-82cf-97bb09bfac8a",
   "metadata": {},
   "outputs": [
    {
     "name": "stdout",
     "output_type": "stream",
     "text": [
      "[8 4 9 5 0 0 1 6 4 1 1 9 6 6 5 8 8 0]\n"
     ]
    }
   ],
   "source": [
    "y1 = np.random.randint(10, size=18)\n",
    "print(y1)"
   ]
  },
  {
   "cell_type": "code",
   "execution_count": 23,
   "id": "e47348e6-cf81-4f2b-bd1e-29bbedac7244",
   "metadata": {},
   "outputs": [
    {
     "name": "stdout",
     "output_type": "stream",
     "text": [
      "[4 9 5 0 0 1]\n"
     ]
    }
   ],
   "source": [
    "print(y1[1:7])"
   ]
  },
  {
   "cell_type": "code",
   "execution_count": 29,
   "id": "ac3be528-c35b-4443-8edd-0b7d44030e37",
   "metadata": {},
   "outputs": [
    {
     "name": "stdout",
     "output_type": "stream",
     "text": [
      "[8 9 0 1 4 1 6 5 8]\n"
     ]
    }
   ],
   "source": [
    "print(y1[::2])"
   ]
  },
  {
   "cell_type": "code",
   "execution_count": 31,
   "id": "ae7c56e3-f07a-41c5-bf90-20590d085959",
   "metadata": {},
   "outputs": [
    {
     "name": "stdout",
     "output_type": "stream",
     "text": [
      "81\n"
     ]
    }
   ],
   "source": [
    "print(y1.sum())"
   ]
  },
  {
   "cell_type": "code",
   "execution_count": 32,
   "id": "f307ac07-5d1d-4c86-94a9-136bda28ad45",
   "metadata": {},
   "outputs": [
    {
     "name": "stdout",
     "output_type": "stream",
     "text": [
      "[[12  0  8]\n",
      " [ 5  7 10]\n",
      " [ 6  4  1]\n",
      " [17 12  1]\n",
      " [15  6  5]]\n"
     ]
    }
   ],
   "source": [
    "xx = np.random.randint(18, size=(5, 3))\n",
    "print(xx)\n"
   ]
  },
  {
   "cell_type": "code",
   "execution_count": 34,
   "id": "c29d0cfc-f36f-47cd-a98c-6042061d6e62",
   "metadata": {},
   "outputs": [
    {
     "name": "stdout",
     "output_type": "stream",
     "text": [
      "10\n"
     ]
    }
   ],
   "source": [
    "print(xx[1,2])"
   ]
  },
  {
   "cell_type": "code",
   "execution_count": 36,
   "id": "d930113a-896c-47b1-a31b-33bfa3f34d5e",
   "metadata": {},
   "outputs": [
    {
     "name": "stdout",
     "output_type": "stream",
     "text": [
      "[[ 5  7 10]\n",
      " [ 6  4  1]]\n"
     ]
    }
   ],
   "source": [
    "print(xx[1:3:])"
   ]
  },
  {
   "cell_type": "code",
   "execution_count": 55,
   "id": "57aede29-465a-4bcd-8f01-3da1a8c06262",
   "metadata": {},
   "outputs": [
    {
     "name": "stdout",
     "output_type": "stream",
     "text": [
      "[[ 5  7 10]\n",
      " [ 6  4  1]]\n"
     ]
    }
   ],
   "source": [
    "print(xx[[1,2],:])"
   ]
  },
  {
   "cell_type": "code",
   "execution_count": 60,
   "id": "d01f1125-f625-47f3-839a-ab387e21dba7",
   "metadata": {},
   "outputs": [
    {
     "name": "stdout",
     "output_type": "stream",
     "text": [
      "(2, 3) (2, 3)\n",
      "[[ 3 11 10]\n",
      " [ 4 13 11]] [[ 1 -3  4]\n",
      " [ 6  3 -7]] [[ 2 28 21]\n",
      " [-5 40 18]] [[ 2.          0.57142857  2.33333333]\n",
      " [-5.          1.6         0.22222222]]\n",
      "[[ 3 11 10]\n",
      " [ 4 13 11]]\n"
     ]
    }
   ],
   "source": [
    "x = np.array([[2, 4, 7], [5, 8, 2]])\n",
    "y = np.array([[1, 7, 3], [-1, 5, 9]])\n",
    "print(x.shape, y.shape)\n",
    "add = np.add(x, y)\n",
    "sub = np.subtract(x, y)\n",
    "mul = np.multiply(x, y)\n",
    "div = np.divide(x, y)\n",
    "print(add, sub, mul, div)\n",
    "print(x+y)"
   ]
  },
  {
   "cell_type": "code",
   "execution_count": 63,
   "id": "8049b09b-e211-40e7-98d7-9294c8dd9f95",
   "metadata": {},
   "outputs": [
    {
     "name": "stdout",
     "output_type": "stream",
     "text": [
      "The divided result is: 0.5\n",
      "The multiplication result is: 40\n"
     ]
    }
   ],
   "source": [
    "class calculator:\n",
    "    def add(self, a, b):\n",
    "        return a+b\n",
    "\n",
    "    def multiply(self, a, b):\n",
    "        return a*b\n",
    "\n",
    "    def divide(self, a, b):\n",
    "        if b!=0:\n",
    "            return a/b\n",
    "        else:\n",
    "            return \"Error: Divide be zero condition!\"\n",
    "\n",
    "if __name__== \"__main__\":\n",
    "    calc = calculator()\n",
    "    div = calc.divide(3, 6)\n",
    "    print(\"The divided result is:\", div)\n",
    "    print(\"The multiplication result is:\", calc.multiply(8, 5))\n",
    "        "
   ]
  },
  {
   "cell_type": "code",
   "execution_count": 18,
   "id": "8845f21f-fc97-4318-bc5d-dc8a51e3c5a1",
   "metadata": {},
   "outputs": [
    {
     "name": "stdout",
     "output_type": "stream",
     "text": [
      "            name   age   income gender  department grade  performance_score\n",
      "0    Allen Smith  45.0      NaN    NaN  Operations    G3                723\n",
      "1        S Kumar   NaN  16000.0      F     Finance    G0                520\n",
      "2    Jack Morgan  32.0  35000.0      M     Finance    G2                674\n",
      "3      Ying Chin  45.0  65000.0      F       Sales    G3                556\n",
      "4  Dheeraj Patel  30.0  42000.0      F  Operations    G2                711\n",
      "            name   age   income gender  department grade  performance_score\n",
      "4  Dheeraj Patel  30.0  42000.0      F  Operations    G2                711\n",
      "5  Satyam Sharma   NaN  62000.0    NaN       Sales    G3                649\n",
      "6   James Authur  54.0      NaN      F  Operations    G3                 53\n",
      "7     Josh Wills  54.0  52000.0      F     Finance    G3                901\n",
      "8       Leo Duck  23.0  98000.0      M       Sales    G4                709\n",
      "Index(['name', 'age', 'income', 'gender', 'department', 'grade',\n",
      "       'performance_score'],\n",
      "      dtype='object')\n",
      "(9, 7)\n",
      "<class 'pandas.core.frame.DataFrame'>\n",
      "RangeIndex: 9 entries, 0 to 8\n",
      "Data columns (total 7 columns):\n",
      " #   Column             Non-Null Count  Dtype  \n",
      "---  ------             --------------  -----  \n",
      " 0   name               9 non-null      object \n",
      " 1   age                7 non-null      float64\n",
      " 2   income             7 non-null      float64\n",
      " 3   gender             7 non-null      object \n",
      " 4   department         9 non-null      object \n",
      " 5   grade              9 non-null      object \n",
      " 6   performance_score  9 non-null      int64  \n",
      "dtypes: float64(2), int64(1), object(4)\n",
      "memory usage: 632.0+ bytes\n",
      "None\n",
      "             age        income  performance_score\n",
      "count   7.000000      7.000000           9.000000\n",
      "mean   40.428571  52857.142857         610.666667\n",
      "std    12.204605  26028.372797         235.671912\n",
      "min    23.000000  16000.000000          53.000000\n",
      "25%    31.000000  38500.000000         556.000000\n",
      "50%    45.000000  52000.000000         674.000000\n",
      "75%    49.500000  63500.000000         711.000000\n",
      "max    54.000000  98000.000000         901.000000\n",
      "            name   age\n",
      "0    Allen Smith  45.0\n",
      "1        S Kumar   NaN\n",
      "2    Jack Morgan  32.0\n",
      "3      Ying Chin  45.0\n",
      "4  Dheeraj Patel  30.0\n",
      "5  Satyam Sharma   NaN\n",
      "6   James Authur  54.0\n",
      "7     Josh Wills  54.0\n",
      "8       Leo Duck  23.0\n"
     ]
    }
   ],
   "source": [
    "import pandas as pd\n",
    "data = pd.read_csv(\"C:/Users/USER/Desktop/BETKOT Municipality Program/YASH SLIDES/Class4_CSV Operation/CSV_File_Basic/employee.csv\")\n",
    "print(data.head())\n",
    "print(data.tail())\n",
    "print(data.columns)\n",
    "print(data.shape)\n",
    "print(data.info())\n",
    "print(data.describe())\n",
    "print(data.filter([\"name\", \"age\"]))"
   ]
  },
  {
   "cell_type": "code",
   "execution_count": 19,
   "id": "4ad2dd70-9000-421a-87b4-3a780672f00b",
   "metadata": {},
   "outputs": [
    {
     "name": "stdout",
     "output_type": "stream",
     "text": [
      "            name   age   income gender  department grade  performance_score\n",
      "2    Jack Morgan  32.0  35000.0      M     Finance    G2                674\n",
      "3      Ying Chin  45.0  65000.0      F       Sales    G3                556\n",
      "4  Dheeraj Patel  30.0  42000.0      F  Operations    G2                711\n",
      "5  Satyam Sharma   NaN  62000.0    NaN       Sales    G3                649\n"
     ]
    }
   ],
   "source": [
    "print(data[2:6])"
   ]
  },
  {
   "cell_type": "code",
   "execution_count": 29,
   "id": "1ab47fa9-dc0a-4ee9-a429-d04e0c90ea81",
   "metadata": {},
   "outputs": [
    {
     "name": "stdout",
     "output_type": "stream",
     "text": [
      "            name   age   income gender department grade  performance_score\n",
      "1        S Kumar   NaN  16000.0      F    Finance    G0                520\n",
      "2    Jack Morgan  32.0  35000.0      M    Finance    G2                674\n",
      "3      Ying Chin  45.0  65000.0      F      Sales    G3                556\n",
      "5  Satyam Sharma   NaN  62000.0    NaN      Sales    G3                649\n",
      "7     Josh Wills  54.0  52000.0      F    Finance    G3                901\n",
      "8       Leo Duck  23.0  98000.0      M      Sales    G4                709\n"
     ]
    }
   ],
   "source": [
    "print(data[data.department.isin(['Sales', 'Finance'])])"
   ]
  },
  {
   "cell_type": "code",
   "execution_count": 30,
   "id": "963fc0a6-3449-4ef0-9ac7-9a51cad4879a",
   "metadata": {},
   "outputs": [
    {
     "name": "stdout",
     "output_type": "stream",
     "text": [
      "            name   age   income gender  department grade  performance_score\n",
      "0    Allen Smith  45.0      NaN    NaN  Operations    G3                723\n",
      "4  Dheeraj Patel  30.0  42000.0      F  Operations    G2                711\n",
      "7     Josh Wills  54.0  52000.0      F     Finance    G3                901\n",
      "8       Leo Duck  23.0  98000.0      M       Sales    G4                709\n"
     ]
    }
   ],
   "source": [
    "print(data[data.performance_score>=700])"
   ]
  },
  {
   "cell_type": "code",
   "execution_count": 31,
   "id": "c135795c-7c1f-449c-9040-1d3f52bbec83",
   "metadata": {},
   "outputs": [
    {
     "name": "stdout",
     "output_type": "stream",
     "text": [
      "            name   age   income gender  department grade  performance_score\n",
      "0    Allen Smith  45.0      NaN    NaN  Operations    G3                723\n",
      "1        S Kumar   NaN  16000.0      F     Finance    G0                520\n",
      "2    Jack Morgan  32.0  35000.0      M     Finance    G2                674\n",
      "3      Ying Chin  45.0  65000.0      F       Sales    G3                556\n",
      "4  Dheeraj Patel  30.0  42000.0      F  Operations    G2                711\n",
      "5  Satyam Sharma   NaN  62000.0    NaN       Sales    G3                649\n",
      "8       Leo Duck  23.0  98000.0      M       Sales    G4                709\n"
     ]
    }
   ],
   "source": [
    "print(data[(data.performance_score>=500)& (data.performance_score<800)])"
   ]
  },
  {
   "cell_type": "code",
   "execution_count": null,
   "id": "2f296512-bc76-4f41-93d8-ef60d37bcaf8",
   "metadata": {},
   "outputs": [],
   "source": []
  }
 ],
 "metadata": {
  "kernelspec": {
   "display_name": "Python 3 (ipykernel)",
   "language": "python",
   "name": "python3"
  },
  "language_info": {
   "codemirror_mode": {
    "name": "ipython",
    "version": 3
   },
   "file_extension": ".py",
   "mimetype": "text/x-python",
   "name": "python",
   "nbconvert_exporter": "python",
   "pygments_lexer": "ipython3",
   "version": "3.10.4"
  }
 },
 "nbformat": 4,
 "nbformat_minor": 5
}
