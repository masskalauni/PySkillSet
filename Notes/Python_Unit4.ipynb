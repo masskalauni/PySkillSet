{
 "cells": [
  {
   "cell_type": "markdown",
   "metadata": {
    "id": "cjIjiKh7svHQ"
   },
   "source": [
    "## Recap"
   ]
  },
  {
   "cell_type": "markdown",
   "metadata": {
    "id": "ud9LItNWTE0n"
   },
   "source": [
    "## <font color='red'>Task 1</font>\n",
    "Area of circle:\n",
    "$3.141592653589793r^2$"
   ]
  },
  {
   "cell_type": "code",
   "execution_count": null,
   "metadata": {
    "id": "-xD4012nTERv"
   },
   "outputs": [],
   "source": [
    "def area_of_circle(radius: int) -> float:\n",
    "  \"\"\"Please help me, calculate area of circle?\n",
    "     I only need two digits after decimal.\n",
    "  \"\"\""
   ]
  },
  {
   "cell_type": "markdown",
   "metadata": {
    "id": "rHLQjzBWLKAz"
   },
   "source": [
    "## <font color='red'>Task 2</font>"
   ]
  },
  {
   "cell_type": "code",
   "execution_count": null,
   "metadata": {
    "id": "nrCq7H0qLI55"
   },
   "outputs": [],
   "source": [
    "files = ['POWER_Point_Daily_19810104_20231124_027d9000N_081d9000E_LST.csv',\n",
    "         'POWER_Point_Daily_19810104_20231124_028d0000N_081d9000E_LST.csv',\n",
    "         'POWER_Point_Daily_19810104_20231124_028d0000N_082d0800E_LST.csv',\n",
    "         'POWER_Point_Daily_19810104_20231124_028d0200N_081d7700E_LST.csv']"
   ]
  },
  {
   "cell_type": "markdown",
   "metadata": {
    "id": "ifNcarN0Lhfb"
   },
   "source": [
    "**Hey, coder, I need your help. I have a list of csv file names (as in above cell). Could you give me extracted latitude and longitude from these names.**\n",
    "\n",
    "Expected:\n",
    "\n",
    "Input: 'POWER_Point_Daily_19810104_20231124_027d9000N_081d9000E_LST.csv'\n",
    "\n",
    "Output: (27.9000, 81.000)"
   ]
  },
  {
   "cell_type": "code",
   "execution_count": null,
   "metadata": {
    "id": "CueQ45ZBMxWh"
   },
   "outputs": [],
   "source": [
    "from typing import List, Tuple\n",
    "\n",
    "def extract_lat_long(file_name: str) -> Tuple[float, float]:\n",
    "  \"\"\"Can you help me extract latitude and longitude from file names?\n",
    "  \"\"\"\n",
    "  # your code here."
   ]
  },
  {
   "cell_type": "markdown",
   "metadata": {
    "id": "RAz3qqLAOnC-"
   },
   "source": [
    "## <font color='red'>Task 3</font>"
   ]
  },
  {
   "cell_type": "markdown",
   "metadata": {
    "id": "C90thqJ3OtHV"
   },
   "source": [
    "I have a GPA of students as follows:\n",
    "\n",
    "Can you help sort by the name of the student.\n",
    "\n",
    "```python\n",
    "from typing import Dict\n",
    "\n",
    "gpa = {'Ritu': 2.75,\n",
    "       'Neeta': 3.0,\n",
    "       'Aarya': 3.5,\n",
    "       'Kajal': 3.0,\n",
    "       'Shuvam': 3.10,\n",
    "       'Bjaya': 3.0\n",
    "      }\n",
    "\n",
    "def get_sorted(gpa: Dict[str, float) -> Dict[str, float]:\n",
    "  # your code here\n",
    "\n",
    "Expected Output:\n",
    "{'Aarya': 3.5,\n",
    " 'Bjaya': 3.0,\n",
    " ...\n",
    "}\n",
    "```"
   ]
  },
  {
   "cell_type": "code",
   "execution_count": null,
   "metadata": {
    "id": "2kbdSfKuRyki"
   },
   "outputs": [],
   "source": []
  },
  {
   "cell_type": "markdown",
   "metadata": {
    "id": "ZPpWBH76t8es"
   },
   "source": [
    "## <font color='red'>Task 4</font>"
   ]
  },
  {
   "cell_type": "code",
   "execution_count": null,
   "metadata": {
    "id": "HzBtWvB9t7-6"
   },
   "outputs": [],
   "source": [
    "def picking_numbers(balls: List[int]) -> List[int]:\n",
    "  \"\"\"Can you help me picking even positioned numbers?\n",
    "  \"\"\"\n",
    "  # your code here.\n",
    "\n",
    "# For example\n",
    "# print(picking_numbers([1, 2, 3, 4, 5]))  # Output: [1, 3, 5]\n",
    "# print(picking_numbers([1, 2, 3, 4, 5, 6]))  # Output: [1, 3, 5]\n",
    "# print(picking_numbers([1, 2, 3, 4, 5, 6, 7]))  # Output: [1, 3, 5, 7]"
   ]
  },
  {
   "cell_type": "markdown",
   "metadata": {
    "id": "5AL6S5UjtDCI"
   },
   "source": [
    "## <font color='red'>Task 5</font>"
   ]
  },
  {
   "cell_type": "code",
   "execution_count": null,
   "metadata": {
    "id": "CyZrZyW2s7vB"
   },
   "outputs": [],
   "source": [
    "def sum_odd(a: int, b: int) -> int:\n",
    "    \"\"\"sum of all odd numbers between (including) a and b\n",
    "    \"\"\"\n",
    "    # your code here.\n",
    "\n",
    "# For example\n",
    "# print(sum_odd(2, 4))  # Output: 3\n",
    "# print(sum_odd(2, 7))  # Output: 15"
   ]
  },
  {
   "cell_type": "markdown",
   "metadata": {
    "id": "a7DKC6FptMaW"
   },
   "source": [
    "## <font color='red'>Task 6</font>"
   ]
  },
  {
   "cell_type": "code",
   "execution_count": null,
   "metadata": {
    "id": "NXMRkt57suvu"
   },
   "outputs": [],
   "source": [
    "def keep_consonants(word: str) -> str:\n",
    "    \"\"\"word is a string of lowercase letters\n",
    "       Returns a string containing only the consonants\n",
    "       of word in the order they appear.\n",
    "    \"\"\"\n",
    "    # your code here.\n",
    "\n",
    "# For example\n",
    "# print(keep_consonants(\"abcd\"))  # prints bcd\n",
    "# print(keep_consonants(\"aaa\"))  # prints an empty string\n",
    "# print(keep_consonants(\"babas\"))  # prints bbs"
   ]
  },
  {
   "cell_type": "markdown",
   "metadata": {
    "id": "cMCBZAOatf2G"
   },
   "source": [
    "## <font color='red'>Task 7</font>\n",
    "\n",
    "You can also use set operations."
   ]
  },
  {
   "cell_type": "code",
   "execution_count": null,
   "metadata": {
    "id": "GPXUqkdXsuo8"
   },
   "outputs": [],
   "source": [
    "def remaining_fruits(fruits: List[str], bought: List[str]) -> List[str]:\n",
    "    \"\"\"I have list of fruits to buy, I bought some of them.\n",
    "       What are other remaining fruit(s) to buy. Could you help me?\n",
    "    \"\"\"\n",
    "    # your code here.\n",
    "\n",
    "# For example\n",
    "# fruits = ['orange', 'apple', 'grapes', 'papaya', 'mango', 'watermelon']\n",
    "# bought = ['apple', 'papaya', 'mango']\n",
    "# print(remaining_fruits(fruits, bought))  # Output: ['orange', 'grapes', 'watermelon']"
   ]
  },
  {
   "cell_type": "markdown",
   "metadata": {
    "id": "HqiCDhq1wNmK"
   },
   "source": [
    "## Python Module\n",
    "A module is a single file containing Python definitions and statements. A module can define functions, classes, and variables."
   ]
  },
  {
   "cell_type": "markdown",
   "metadata": {
    "id": "FUhTXeJu0pGS"
   },
   "source": [
    "## Python Package\n",
    "A package is a collection of modules organized in directories that include a special `__init__.py` file.\n",
    "\n",
    "**Example Package Structure:**\n",
    "```\n",
    "mypackage/\n",
    "    __init__.py\n",
    "    module1.py\n",
    "    module2.py\n",
    "```"
   ]
  },
  {
   "cell_type": "markdown",
   "metadata": {
    "id": "29q5TCIE7CS3"
   },
   "source": [
    "## Python Library\n",
    "\n",
    "A python library is a collection of related modules and packages bundled together to provide certain functionalities.\n",
    "\n",
    "Directory structure of library is as follows:\n",
    "```\n",
    "mylibrary/\n",
    "    __init__.py\n",
    "    mymodule.py\n",
    "    mypackage/\n",
    "        __init__.py\n",
    "        module1.py\n",
    "        module2.py\n",
    "    mypackage1/\n",
    "        __init__.py\n",
    "        modulex.py\n",
    "        moduley.py\n",
    "```"
   ]
  },
  {
   "cell_type": "markdown",
   "metadata": {
    "id": "ZMpdMS78sfJI"
   },
   "source": [
    "## Return vs Yield\n",
    "\n",
    "### Return\n",
    "\n",
    "**Description:**\n",
    "\n",
    "- Used to exit a function.\n",
    "- Returns a value to the caller.\n",
    "- Ends the function execution.\n",
    "\n",
    "**Syntax:**\n",
    "```python\n",
    "def function_name(parameters):\n",
    "\t# code\n",
    "\treturn value\n",
    "```\n",
    "**Example:**\n",
    "\n",
    "```python\n",
    "def add(a, b):\n",
    "\treturn a + b\n",
    "result = add(3, 5)\n",
    "print(result)  # Output: 8\n",
    "```\n",
    "\n",
    "## <font color='red'>Task 9</color>\n",
    "Create a function called `subtract` that takes two arguments and returns their difference. Call the function with the arguments 10 and 4, and print the result."
   ]
  },
  {
   "cell_type": "code",
   "execution_count": null,
   "metadata": {
    "id": "aXypSFGVkPOl"
   },
   "outputs": [],
   "source": [
    "def subtract(a, b):\n",
    "    # Your code here\n",
    "    pass #Remove this pass keyword when you write your solution\n",
    "\n",
    "result = subtract(10, 4)\n",
    "print(result)  # Should print 6\n"
   ]
  },
  {
   "cell_type": "code",
   "execution_count": null,
   "metadata": {
    "id": "4Gohq1hT_kMe"
   },
   "outputs": [],
   "source": [
    "# Test your code by running this block\n",
    "assert subtract(10, 4) == 6\n",
    "assert subtract(20, 5) == 15"
   ]
  },
  {
   "cell_type": "markdown",
   "metadata": {
    "id": "sp-ts31bE4dw"
   },
   "source": [
    "### Yield\n",
    "\n",
    "**Description:**\n",
    "\n",
    "- Converts a function into a generator.\n",
    "- Yields values one at a time, pausing the function's state between yields.\n",
    "- Resumes from where it left off when called again.\n",
    "\n",
    "**Syntax:**\n",
    "```python\n",
    "def generator_function():\n",
    "\tyield value\n",
    "```\n",
    "\n",
    "**Example:**\n",
    "```python\n",
    "def count_up_to(max):\n",
    "    count = 1\n",
    "    while count <= max:\n",
    "        yield count\n",
    "        count += 1\n",
    "\n",
    "for number in count_up_to(5):\n",
    "    print(number)\n",
    "```\n",
    "\n",
    "## <font color='red'>Task 10</font>\n",
    "Create a generator function called `even_numbers` that yields even numbers starting from 2 up to a given maximum number. Use a for loop to print the even numbers up to 10."
   ]
  },
  {
   "cell_type": "code",
   "execution_count": null,
   "metadata": {
    "id": "qrJ3vvNAFJ_N"
   },
   "outputs": [],
   "source": [
    "def even_numbers(max):\n",
    "    # Your code here\n",
    "    pass #Remove this pass keyword when you write your solution\n",
    "\n",
    "for even in even_numbers(10):\n",
    "    print(even)  # Should print 2, 4, 6, 8, 10"
   ]
  },
  {
   "cell_type": "code",
   "execution_count": null,
   "metadata": {
    "id": "DMJEy0sbGHil"
   },
   "outputs": [],
   "source": [
    "# Test your code by running this block\n",
    "assert list(even_numbers(10)) == [2, 4, 6, 8, 10]\n",
    "assert list(even_numbers(5)) == [2, 4]"
   ]
  },
  {
   "cell_type": "markdown",
   "metadata": {
    "id": "9qpfUdQ9Gej6"
   },
   "source": [
    "## 2. Lambda Function\n",
    "\n",
    "### Lambda Function\n",
    "\n",
    "**Description:**\n",
    "\n",
    "- A small anonymous function.\n",
    "- Defined using the `lambda` keyword.\n",
    "- Can have any number of arguments but only one expression.\n",
    "\n",
    "**Syntax:**\n",
    "```\n",
    "lambda arguments: expression\n",
    "```\n",
    "**Example:**\n",
    "```python\n",
    "multiply = lambda x, y: x * y\n",
    "result = multiply(4, 5)\n",
    "print(result)  # Output: 20\n",
    "```\n",
    "## <font color='red'>Task 11</font>\n",
    "Write a lambda function(square) that takes a single argument and returns its square. Use this lambda function to find the square of 7 and print the result."
   ]
  },
  {
   "cell_type": "code",
   "execution_count": null,
   "metadata": {
    "id": "Kb61AuXtGd1C"
   },
   "outputs": [],
   "source": [
    "square = #Write your code here\n",
    "result = square(7)\n",
    "print(result)  # Should print 49"
   ]
  },
  {
   "cell_type": "code",
   "execution_count": null,
   "metadata": {
    "id": "imNCK0oMHNhq"
   },
   "outputs": [],
   "source": [
    "# Test your code by running this block\n",
    "assert square(7) == 49\n",
    "assert square(5) == 25"
   ]
  },
  {
   "cell_type": "markdown",
   "metadata": {
    "id": "SlICXUjachTF"
   },
   "source": [
    "## The `os` Library\n",
    "\n",
    "**Description:**\n",
    "\n",
    "- The `os` library in Python provides a way to interact with the operating system.\n",
    "- It allows you to perform tasks such as reading or writing to the filesystem, handling directories, and getting system information.\n",
    "\n",
    "### Useful Functions\n",
    "\n",
    "#### 1. `os.getcwd()`\n",
    "\n",
    "**Description:**\n",
    "\n",
    "- Returns the current working directory/folder.\n",
    "\n",
    "**Syntax:**\n",
    "\n",
    "python\n",
    "\n",
    "```python\n",
    "os.getcwd()\n",
    "```\n",
    "\n",
    "**Example:**\n",
    "\n",
    "```python\n",
    "import os\n",
    "current_directory = os.getcwd()\n",
    "print(current_directory)\n",
    "```\n",
    "\n",
    "**Task:**  \n",
    "Print the current working directory using `os.getcwd()`.\n"
   ]
  },
  {
   "cell_type": "code",
   "execution_count": null,
   "metadata": {
    "colab": {
     "base_uri": "https://localhost:8080/"
    },
    "id": "XuR2ineFciDN",
    "outputId": "6c6c67ff-5ae3-4306-e5c4-d0ade350b0b1"
   },
   "outputs": [
    {
     "name": "stdout",
     "output_type": "stream",
     "text": [
      "/content\n"
     ]
    }
   ],
   "source": [
    "import os\n",
    "current_directory = None # Replace the `None` value with current directory/folder's path\n",
    "\n",
    "print(current_directory)"
   ]
  },
  {
   "cell_type": "code",
   "execution_count": null,
   "metadata": {
    "id": "axrSdr46dyKO"
   },
   "outputs": [],
   "source": [
    "# Test your code by running this block\n",
    "assert current_directory == os.getcwd()"
   ]
  },
  {
   "cell_type": "markdown",
   "metadata": {
    "id": "o3nxuRH1crg0"
   },
   "source": [
    "#### 2. `os.listdir()`\n",
    "\n",
    "**Description:**\n",
    "\n",
    "- Lists all files and directories/folders in a specified path.\n",
    "- If no path is specified, it lists the contents of the current directory.\n",
    "\n",
    "**Syntax:**\n",
    "\n",
    "\n",
    "```python\n",
    "os.listdir(path)\n",
    "```\n",
    "\n",
    "**Example:**\n",
    "\n",
    "```python\n",
    "import os\n",
    "items = os.listdir('.')\n",
    "print(items)\n",
    "```\n",
    "**Task:**  \n",
    "List all files and directories in the current directory using `os.listdir()`.\n"
   ]
  },
  {
   "cell_type": "code",
   "execution_count": null,
   "metadata": {
    "colab": {
     "base_uri": "https://localhost:8080/"
    },
    "id": "qA3SQCi3csYF",
    "outputId": "22f693ab-cd0a-4256-e725-08af53d2addc"
   },
   "outputs": [
    {
     "name": "stdout",
     "output_type": "stream",
     "text": [
      "['.config', 'sample_data']\n"
     ]
    }
   ],
   "source": [
    "items = None # Replace the `None` value with code\n",
    "print(items)\n"
   ]
  },
  {
   "cell_type": "code",
   "execution_count": null,
   "metadata": {
    "id": "PtOECZZEeW58"
   },
   "outputs": [],
   "source": [
    "# Test your code by running this block\n",
    "assert isinstance(items, list)"
   ]
  },
  {
   "cell_type": "markdown",
   "metadata": {
    "id": "UB2BpCpqc4CQ"
   },
   "source": [
    "#### 3. `os.mkdir()`\n",
    "\n",
    "**Description:**\n",
    "\n",
    "- Creates a new directory at the specified path.\n",
    "\n",
    "**Syntax:**\n",
    "\n",
    "```python\n",
    "os.mkdir(path)\n",
    "```\n",
    "\n",
    "**Example:**\n",
    "\n",
    "```python\n",
    "import os\n",
    "os.mkdir('new_directory')\n",
    "```\n",
    "\n",
    "\n",
    "**Task:**  \n",
    "Create a new directory called `test_directory` using `os.mkdir()`.\n"
   ]
  },
  {
   "cell_type": "code",
   "execution_count": null,
   "metadata": {
    "id": "vx6AK5gMc4rj"
   },
   "outputs": [],
   "source": [
    "# Write your code here\n",
    "\n"
   ]
  },
  {
   "cell_type": "code",
   "execution_count": null,
   "metadata": {
    "id": "R7wOD_UMevi7"
   },
   "outputs": [],
   "source": [
    "# Test your code by running this block\n",
    "assert 'test_directory' in os.listdir('.')"
   ]
  },
  {
   "cell_type": "markdown",
   "metadata": {
    "id": "jYot5LZVdAaX"
   },
   "source": [
    "#### 4. `os.remove()`\n",
    "\n",
    "**Description:**\n",
    "- Removes (deletes) the specified file.\n",
    "**Syntax:**\n",
    "```python\n",
    "os.remove(path)\n",
    "```\n",
    "\n",
    "**Example:**\n",
    "\n",
    "```python\n",
    "import os\n",
    "os.remove('file_to_delete.txt')\n",
    "```"
   ]
  },
  {
   "cell_type": "markdown",
   "metadata": {
    "id": "SfjH44z1flra"
   },
   "source": [
    "**Task:**  \n",
    "Delete the file called `sample_file.txt` using `os.remove()`"
   ]
  },
  {
   "cell_type": "code",
   "execution_count": null,
   "metadata": {
    "id": "6DaB1wwrgBH8"
   },
   "outputs": [],
   "source": [
    "# This code creates a text file named sample_file.txt\n",
    "with open('sample_file.txt', 'w') as file:\n",
    "    file.write(\"This is a sample file.\") # This code writes \"This is a sample file.\" inside of the text file"
   ]
  },
  {
   "cell_type": "code",
   "execution_count": null,
   "metadata": {
    "id": "2ogXuHdmdBHR"
   },
   "outputs": [],
   "source": [
    "# Write the solution code to remove this sample_file.txt which is created by the above code\n",
    "# Write the code below\n",
    "\n",
    "\n"
   ]
  },
  {
   "cell_type": "code",
   "execution_count": null,
   "metadata": {
    "id": "7VqqTIKUff5V"
   },
   "outputs": [],
   "source": [
    "## Test your code by running this block\n",
    "assert 'sample_file.txt' not in os.listdir('.')"
   ]
  },
  {
   "cell_type": "markdown",
   "metadata": {
    "id": "w0V05f0HZx3f"
   },
   "source": [
    "#**Exception Handling**\n",
    "Exception handling in Python is a way to handle errors gracefully, allowing the program to continue running or to fail in a controlled manner.\n",
    "\n",
    "###**Importance of Exception Handling**\n",
    "\n",
    "\n",
    "1. **Improves Reliability:** Helps in creating programs that can handle unexpected situations without crashing.\n",
    "2. **User-Friendly:** Provides meaningful error messages to users instead of abrupt program termination.\n",
    "3. **Debugging Aid:** Makes it easier to locate and fix issues in the code.\n",
    "4. **Resource Management:** Ensures that resources (files, network connections) are properly closed or released, even in case of errors.\n",
    "\n",
    "The `try` block lets you test a block of code for errors.\n",
    "\n",
    "The `except` block lets you handle the error.\n",
    "\n",
    "The `try...except` block is used to handle exceptions in Python. Here's the syntax of `try...except` block:\n",
    "\n",
    "```python\n",
    "try:\n",
    "    # code that may cause exception\n",
    "except:\n",
    "    # code to run when exception occurs\n",
    "```\n",
    "\n",
    "Here, we have placed the code that might generate an exception inside the `try` block. Every `try` block is followed by an `except` block.\n",
    "\n",
    "When an exception occurs, it is caught by the `except` block. The `except` block cannot be used without the `try` block.\n",
    "\n",
    "\n",
    "\n",
    "\n"
   ]
  },
  {
   "cell_type": "code",
   "execution_count": null,
   "metadata": {
    "id": "2qwksNb2rykS"
   },
   "outputs": [],
   "source": [
    "# Example: Exception Handling Using try...except\n",
    "\n",
    "try:\n",
    "    numerator = 10\n",
    "    denominator = 0\n",
    "\n",
    "    result = numerator/denominator\n",
    "\n",
    "    print(result)\n",
    "except:\n",
    "    print(\"Error: Denominator cannot be 0.\")\n",
    "\n",
    "# Output: Error: Denominator cannot be 0."
   ]
  },
  {
   "cell_type": "markdown",
   "metadata": {
    "id": "eZKviOISsBh9"
   },
   "source": [
    "In the example, we are trying to divide a number by `0`. Here, this code generates an exception.\n",
    "\n",
    "To handle the exception, we have put the code, `result = numerator/denominator` inside the `try` block. Now when an exception occurs, the rest of the code inside the `try` block is skipped.\n",
    "\n",
    "The `except` block catches the exception and statements inside the `except` block are executed.\n",
    "\n",
    "If none of the statements in the `try` block generates an exception, the `except` block is skipped."
   ]
  },
  {
   "cell_type": "markdown",
   "metadata": {
    "id": "6Xz32okysQYL"
   },
   "source": [
    "###**Catching Specific Exceptions in Python**\n",
    "\n",
    "For each `try` block, there can be zero or more `except` blocks. Multiple `except` blocks allow us to handle each exception differently.\n",
    "\n",
    "The argument type of each `except` block indicates the type of exception that can be handled by it. For example,"
   ]
  },
  {
   "cell_type": "code",
   "execution_count": null,
   "metadata": {
    "id": "MQ-bE947sc_3"
   },
   "outputs": [],
   "source": [
    "try:\n",
    "\n",
    "    even_numbers = [2,4,6,8]\n",
    "    print(even_numbers[5])\n",
    "\n",
    "except ZeroDivisionError:\n",
    "    print(\"Denominator cannot be 0.\")\n",
    "\n",
    "except IndexError:\n",
    "    print(\"Index Out of Bound.\")\n",
    "\n",
    "# Output: Index Out of Bound"
   ]
  },
  {
   "cell_type": "markdown",
   "metadata": {
    "id": "HSD9JYo2sfdt"
   },
   "source": [
    "In this example, we have created a list named even_numbers.\n",
    "\n",
    "Since the list index starts from `0`, the last element of the list is at index `3`. Notice the statement,\n",
    "`print(even_numbers[5])`\n",
    "\n",
    "Here, we are trying to access a value to the index `5`. Hence, `IndexError` exception occurs.\n",
    "\n",
    "When the `IndexError` exception occurs in the `try` block,\n",
    "\n",
    "1. The `ZeroDivisionError` exception is skipped.\n",
    "2. The set of code inside the `IndexError` exception is executed."
   ]
  },
  {
   "cell_type": "markdown",
   "metadata": {
    "id": "ooS31viTtcWd"
   },
   "source": [
    "### **FILE HANDLING Exception**\n"
   ]
  },
  {
   "cell_type": "code",
   "execution_count": null,
   "metadata": {
    "id": "-OhixF9stiXN"
   },
   "outputs": [],
   "source": [
    "try:\n",
    "    file = open('example.txt', 'r')\n",
    "    content = file.read()\n",
    "except FileNotFoundError:\n",
    "    print(\"File not found. Please check the file name and try again.\")\n",
    "finally:\n",
    "    file.close()\n",
    "\n",
    " # OR\n",
    "\n",
    " def read_file(file_path):\n",
    "    try:\n",
    "        with open(file_path, 'r') as file:\n",
    "            content = file.read()\n",
    "            return content\n",
    "    except FileNotFoundError:\n",
    "        return \"File not found. Please check the file path.\"\n"
   ]
  },
  {
   "cell_type": "markdown",
   "metadata": {
    "id": "GbTvyBmRtjhr"
   },
   "source": [
    "Use-Case: Ensures the program doesn't crash if the file isn't found and always closes the file properly."
   ]
  },
  {
   "cell_type": "markdown",
   "metadata": {
    "id": "qeuCYJritD46"
   },
   "source": [
    "# **TASKS**\n",
    "\n",
    "Question 1: Handling File Not Found Error\n",
    "\n",
    "Write a function load_file_content that takes a file path as input and returns the file content. If the file does not exist, return a user-friendly message."
   ]
  },
  {
   "cell_type": "code",
   "execution_count": null,
   "metadata": {
    "id": "V2zC7Dw-tpfw"
   },
   "outputs": [],
   "source": [
    "def load_file_content(file_path):\n",
    "    try:\n",
    "        # your code\n",
    "    except #_your code____\n",
    "\n"
   ]
  },
  {
   "cell_type": "markdown",
   "metadata": {
    "id": "E1enaGzouH7x"
   },
   "source": [
    "Question 2: Handling Division by Zero\n",
    "\n",
    "Write a function perform_division that takes two numbers as input and returns their division. Handle the case where the denominator is zero.\n",
    "\n",
    "You can also play around with the exception handling in the next code block as you wish."
   ]
  },
  {
   "cell_type": "code",
   "execution_count": null,
   "metadata": {
    "id": "Xq2ZF1GguTnq"
   },
   "outputs": [],
   "source": [
    "# Your code\n",
    "\n"
   ]
  },
  {
   "cell_type": "code",
   "execution_count": null,
   "metadata": {
    "id": "9QL1-F79ujF4"
   },
   "outputs": [],
   "source": [
    "# Play around here (optional)"
   ]
  },
  {
   "cell_type": "markdown",
   "metadata": {
    "id": "3yz8suJBunH-"
   },
   "source": [
    "Question 3: Handling Invalid User Input\n",
    "\n",
    "Write a function ask_for_integer that prompts the user for an integer input and handles invalid inputs by asking the user to try again.\n",
    "\n",
    "Example is given below and play around in next code block."
   ]
  },
  {
   "cell_type": "code",
   "execution_count": null,
   "metadata": {
    "id": "bIPfWfojujCg"
   },
   "outputs": [],
   "source": [
    "# Example function\n",
    "def ask_for_integer():\n",
    "    while True:\n",
    "        try:\n",
    "            return int(input(\"Enter an integer: \"))\n",
    "        except ValueError:\n",
    "            print(\"Invalid input. Please enter an integer.\")\n"
   ]
  },
  {
   "cell_type": "code",
   "execution_count": null,
   "metadata": {
    "id": "ikh8_v6FvELH"
   },
   "outputs": [],
   "source": [
    "# Play around with new inputs"
   ]
  },
  {
   "cell_type": "markdown",
   "metadata": {
    "id": "3ksrMNbWvrhE"
   },
   "source": [
    "Question 4: Handling Multiple Exceptions\n",
    "\n",
    "Modify the function safe_divide to handle both ZeroDivisionError and TypeError. Ensure it provides meaningful error messages for each exception.\n",
    "\n",
    "Example code template is given below:\n",
    "\n",
    "```python\n",
    "def safe_divide(_____):\n",
    "    try:\n",
    "        _______\n",
    "    except _________\n",
    "        ____________\n",
    "    except _________\n",
    "       _____________\n",
    "```"
   ]
  },
  {
   "cell_type": "code",
   "execution_count": null,
   "metadata": {
    "id": "6haPfdkgwQwe"
   },
   "outputs": [],
   "source": [
    "# Your code here"
   ]
  }
 ],
 "metadata": {
  "colab": {
   "provenance": []
  },
  "kernelspec": {
   "display_name": "Python 3",
   "language": "python",
   "name": "python3"
  },
  "language_info": {
   "codemirror_mode": {
    "name": "ipython",
    "version": 3
   },
   "file_extension": ".py",
   "mimetype": "text/x-python",
   "name": "python",
   "nbconvert_exporter": "python",
   "pygments_lexer": "ipython3",
   "version": "3.6.8"
  }
 },
 "nbformat": 4,
 "nbformat_minor": 1
}
